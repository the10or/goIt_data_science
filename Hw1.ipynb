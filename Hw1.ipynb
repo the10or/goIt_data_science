{
 "cells": [
  {
   "cell_type": "code",
   "execution_count": 1,
   "id": "95b3d8a5-0a95-4ea9-8a6e-f10f9fb7a330",
   "metadata": {
    "collapsed": true,
    "jupyter": {
     "outputs_hidden": true,
     "source_hidden": true
    },
    "ExecuteTime": {
     "end_time": "2024-03-15T17:36:16.809326Z",
     "start_time": "2024-03-15T17:36:16.806131Z"
    }
   },
   "outputs": [],
   "source": [
    "import numpy as np"
   ]
  },
  {
   "cell_type": "markdown",
   "id": "13bad019-b264-441e-bd92-56df0d558cd8",
   "metadata": {},
   "source": [
    "## 1. Створіть одновимірний масив (вектор) з першими 10-ма натуральними числами та виведіть його значення."
   ]
  },
  {
   "cell_type": "code",
   "execution_count": 2,
   "id": "badd23f0-acd7-4ac0-8cfe-c8cd1b37de72",
   "metadata": {
    "collapsed": true,
    "jupyter": {
     "outputs_hidden": true,
     "source_hidden": true
    },
    "ExecuteTime": {
     "end_time": "2024-03-15T17:36:16.852738Z",
     "start_time": "2024-03-15T17:36:16.847364Z"
    }
   },
   "outputs": [
    {
     "name": "stdout",
     "output_type": "stream",
     "text": [
      "[ 1  2  3  4  5  6  7  8  9 10]\n"
     ]
    }
   ],
   "source": [
    "arr = np.linspace(1,10, num=10,dtype=int)\n",
    "print(arr)"
   ]
  },
  {
   "cell_type": "markdown",
   "id": "0b661016-3561-47f0-a29e-95663154d979",
   "metadata": {},
   "source": [
    "## 2. Створіть двовимірний масив (матрицю) розміром 3x3, заповніть його нулями та виведіть його значення.\n"
   ]
  },
  {
   "cell_type": "code",
   "execution_count": 3,
   "id": "dda43d68-831d-4466-bb57-4699d3f6961e",
   "metadata": {
    "collapsed": true,
    "jupyter": {
     "outputs_hidden": true,
     "source_hidden": true
    },
    "scrolled": true,
    "ExecuteTime": {
     "end_time": "2024-03-15T17:36:16.861133Z",
     "start_time": "2024-03-15T17:36:16.853747Z"
    }
   },
   "outputs": [
    {
     "name": "stdout",
     "output_type": "stream",
     "text": [
      "[[0 0 0]\n",
      " [0 0 0]\n",
      " [0 0 0]]\n"
     ]
    }
   ],
   "source": [
    "matrix = np.zeros((3, 3), dtype=int)\n",
    "print(matrix)"
   ]
  },
  {
   "cell_type": "markdown",
   "id": "9d821506-700c-43b5-ad96-27fe89559ac7",
   "metadata": {
    "jp-MarkdownHeadingCollapsed": true
   },
   "source": [
    "## 3. Створіть масив розміром 5x5, заповніть його випадковими цілими числами в діапазоні від 1 до 10 та виведіть його значення.\n"
   ]
  },
  {
   "cell_type": "code",
   "execution_count": 4,
   "id": "00c9bb6d-5b63-4c5a-b762-61d59d0fd8cb",
   "metadata": {
    "collapsed": true,
    "jupyter": {
     "outputs_hidden": true,
     "source_hidden": true
    },
    "scrolled": true,
    "ExecuteTime": {
     "end_time": "2024-03-15T17:36:16.870036Z",
     "start_time": "2024-03-15T17:36:16.862138Z"
    }
   },
   "outputs": [
    {
     "name": "stdout",
     "output_type": "stream",
     "text": [
      "[[3 6 1 1 5]\n",
      " [9 8 2 9 8]\n",
      " [5 7 5 4 1]\n",
      " [9 8 6 9 8]\n",
      " [1 2 8 7 5]]\n"
     ]
    }
   ],
   "source": [
    "matrix_5x5 = np.random.randint(1, 10, size=(5,5))\n",
    "print(matrix_5x5)"
   ]
  },
  {
   "cell_type": "markdown",
   "id": "42aaac28-833c-4651-a4d1-9464a3efe2b0",
   "metadata": {
    "jp-MarkdownHeadingCollapsed": true
   },
   "source": [
    "## 4. Створіть масив розміром 4x4, заповніть його випадковими дійсними числами в діапазоні від 0 до 1 та виведіть його значення.\n"
   ]
  },
  {
   "cell_type": "code",
   "execution_count": 5,
   "id": "5e1d3288-155a-407c-a31c-836e7bc525e0",
   "metadata": {
    "collapsed": true,
    "jupyter": {
     "outputs_hidden": true,
     "source_hidden": true
    },
    "ExecuteTime": {
     "end_time": "2024-03-15T17:36:16.878988Z",
     "start_time": "2024-03-15T17:36:16.871041Z"
    }
   },
   "outputs": [
    {
     "name": "stdout",
     "output_type": "stream",
     "text": [
      "[[0.71344821 0.99799154 0.7109273  0.54560192]\n",
      " [0.97011985 0.10150945 0.74346922 0.27851815]\n",
      " [0.36808981 0.5583883  0.32158745 0.38291678]\n",
      " [0.54471844 0.8422937  0.51649863 0.14761258]]\n"
     ]
    }
   ],
   "source": [
    "matrix_4x4 = np.random.random((4,4))\n",
    "print(matrix_4x4)"
   ]
  },
  {
   "cell_type": "markdown",
   "id": "0afc00a1-5d8c-45e1-83f5-e0403cba1731",
   "metadata": {},
   "source": [
    "## 5. Створіть два одновимірних масиви розміром 5, заповніть їх випадковими цілими числами в діапазоні від 1 до 10 та виконайте на них поелементні операції додавання, віднімання та множення."
   ]
  },
  {
   "cell_type": "code",
   "execution_count": 6,
   "id": "e3e58596-761a-4df6-a5bc-cd5c75e47fea",
   "metadata": {
    "collapsed": true,
    "jupyter": {
     "outputs_hidden": true,
     "source_hidden": true
    },
    "ExecuteTime": {
     "end_time": "2024-03-15T17:36:16.886143Z",
     "start_time": "2024-03-15T17:36:16.880019Z"
    }
   },
   "outputs": [
    {
     "name": "stdout",
     "output_type": "stream",
     "text": [
      "first matrix: \n",
      "[[7 8 8 4 6]\n",
      " [3 1 2 4 4]\n",
      " [4 7 6 4 5]\n",
      " [7 1 4 6 3]\n",
      " [6 4 1 1 1]]\n",
      "\n",
      "second matrix: \n",
      "[[6 2 3 5 1]\n",
      " [2 7 9 2 7]\n",
      " [7 7 9 2 6]\n",
      " [1 1 5 4 4]\n",
      " [3 1 3 3 9]]\n",
      "\n",
      "sum:  \n",
      "[[13 10 11  9  7]\n",
      " [ 5  8 11  6 11]\n",
      " [11 14 15  6 11]\n",
      " [ 8  2  9 10  7]\n",
      " [ 9  5  4  4 10]]\n",
      "\n",
      "diff:  \n",
      "[[ 1  6  5 -1  5]\n",
      " [ 1 -6 -7  2 -3]\n",
      " [-3  0 -3  2 -1]\n",
      " [ 6  0 -1  2 -1]\n",
      " [ 3  3 -2 -2 -8]]\n",
      "\n",
      "prod:  \n",
      "[[42 16 24 20  6]\n",
      " [ 6  7 18  8 28]\n",
      " [28 49 54  8 30]\n",
      " [ 7  1 20 24 12]\n",
      " [18  4  3  3  9]]\n"
     ]
    }
   ],
   "source": [
    "m5_1 = np.random.randint(1, 10, size=(5,5))\n",
    "m5_2 = np.random.randint(1, 10, size=(5,5))\n",
    "mm_sum = m5_1 + m5_2\n",
    "mm_diff = m5_1 - m5_2\n",
    "mm_prod = m5_1 * m5_2\n",
    "print(f\"first matrix: \\n{m5_1}\\n\")\n",
    "print(f\"second matrix: \\n{m5_2}\\n\")\n",
    "print(f\"sum:  \\n{mm_sum}\\n\")\n",
    "print(f\"diff:  \\n{mm_diff}\\n\")\n",
    "print(f\"prod:  \\n{mm_prod}\")"
   ]
  },
  {
   "cell_type": "markdown",
   "id": "ab0e93fa-089c-449b-bbf3-f8aa03fdb91f",
   "metadata": {},
   "source": [
    "## 6. Створіть два вектори розміром 7, заповніть довільними числами та знайдіть їх скалярний добуток."
   ]
  },
  {
   "cell_type": "code",
   "execution_count": 7,
   "id": "9e11a280-2bee-4d4c-8ef7-05b4310e62fd",
   "metadata": {
    "collapsed": true,
    "jupyter": {
     "outputs_hidden": true,
     "source_hidden": true
    },
    "ExecuteTime": {
     "end_time": "2024-03-15T17:36:16.896027Z",
     "start_time": "2024-03-15T17:36:16.887147Z"
    }
   },
   "outputs": [
    {
     "name": "stdout",
     "output_type": "stream",
     "text": [
      "first vector: [8 1 3 2 0 4 9]\n",
      "second vector: [8 0 5 1 8 7 3]\n",
      "scalar product: 136\n"
     ]
    }
   ],
   "source": [
    "v_1 = np.random.randint(10, size=7)\n",
    "v_2 = np.random.randint(10, size=7)\n",
    "print(f\"first vector: {v_1}\")\n",
    "print(f\"second vector: {v_2}\")\n",
    "print(f\"scalar product: {np.dot(v_1, v_2)}\")"
   ]
  },
  {
   "cell_type": "markdown",
   "id": "eda14884-1f89-4a24-8fae-d8f299912fda",
   "metadata": {},
   "source": [
    "## 7. Створіть дві матриці розміром 2x2 та 2x3, заповніть їх випадковими цілими числами в діапазоні від 1 до 10 та перемножте їх між собою."
   ]
  },
  {
   "cell_type": "code",
   "execution_count": 8,
   "id": "b6315c56-2daa-45bd-9234-fb9a660bc0bb",
   "metadata": {
    "collapsed": true,
    "jupyter": {
     "outputs_hidden": true,
     "source_hidden": true
    },
    "ExecuteTime": {
     "end_time": "2024-03-15T17:36:16.902855Z",
     "start_time": "2024-03-15T17:36:16.897032Z"
    }
   },
   "outputs": [
    {
     "name": "stdout",
     "output_type": "stream",
     "text": [
      "matrix 2x2: \n",
      "[[3 1]\n",
      " [1 6]]\n",
      "\n",
      "matrix 2x3: \n",
      "[[9 1 5]\n",
      " [4 1 6]]\n",
      "\n",
      "[[31  4 21]\n",
      " [33  7 41]]\n"
     ]
    }
   ],
   "source": [
    "matrix_2x2 = np.random.randint(1,11, size=4).reshape(2,2)\n",
    "print(f\"matrix 2x2: \\n{matrix_2x2}\\n\")\n",
    "matrix_2x3 = np.random.randint(1,11, size=6).reshape(2,3)\n",
    "print(f\"matrix 2x3: \\n{matrix_2x3}\\n\")\n",
    "print(np.dot(matrix_2x2, matrix_2x3))"
   ]
  },
  {
   "cell_type": "markdown",
   "id": "1ce5a2c3-8f93-4f63-bd91-5383bf564c26",
   "metadata": {},
   "source": [
    "## 8. Створіть матрицю розміром 3x3, заповніть її випадковими цілими числами в діапазоні від 1 до 10 та знайдіть її обернену матрицю."
   ]
  },
  {
   "cell_type": "code",
   "execution_count": 9,
   "id": "6b667c1e-921e-4954-b5df-cad79f2bbcfe",
   "metadata": {
    "collapsed": true,
    "jupyter": {
     "outputs_hidden": true,
     "source_hidden": true
    },
    "ExecuteTime": {
     "end_time": "2024-03-15T17:36:16.913052Z",
     "start_time": "2024-03-15T17:36:16.903895Z"
    }
   },
   "outputs": [
    {
     "name": "stdout",
     "output_type": "stream",
     "text": [
      "original matrix: \n",
      " [[ 4  8  4]\n",
      " [10  6  1]\n",
      " [ 4  7  4]] \n",
      "\n",
      "inverted: \n",
      " [[-4.72222222e-01  1.11111111e-01  4.44444444e-01]\n",
      " [ 1.00000000e+00 -6.16790569e-18 -1.00000000e+00]\n",
      " [-1.27777778e+00 -1.11111111e-01  1.55555556e+00]]\n"
     ]
    }
   ],
   "source": [
    "m_3x3_original = np.random.randint(1,11, size=(3,3))\n",
    "m_3x3_inverted = np.linalg.inv(m_3x3_original)\n",
    "print(f\"original matrix: \\n {m_3x3_original} \\n\")\n",
    "print(f\"inverted: \\n {m_3x3_inverted}\")"
   ]
  },
  {
   "cell_type": "markdown",
   "id": "e2643f12-3f64-47f6-95a6-1f3ace91fb29",
   "metadata": {},
   "source": [
    "## 9. Створіть матрицю розміром 4x4, заповніть її випадковими дійсними числами в діапазоні від 0 до 1 та транспонуйте її."
   ]
  },
  {
   "cell_type": "code",
   "execution_count": 10,
   "id": "adc31d3e-b7cd-41af-b663-cdea47fb26b4",
   "metadata": {
    "collapsed": true,
    "jupyter": {
     "outputs_hidden": true,
     "source_hidden": true
    },
    "ExecuteTime": {
     "end_time": "2024-03-15T17:36:16.921629Z",
     "start_time": "2024-03-15T17:36:16.915242Z"
    }
   },
   "outputs": [
    {
     "name": "stdout",
     "output_type": "stream",
     "text": [
      "original:\n",
      "\n",
      "[[0.94066605 0.1456988  0.54168568 0.92661337]\n",
      " [0.65460844 0.58902232 0.3237066  0.208278  ]\n",
      " [0.40214916 0.62228693 0.04567792 0.63341607]\n",
      " [0.64255616 0.02037889 0.26336013 0.55668348]] \n",
      "\n",
      "inverted:\n",
      "\n",
      "[[0.94066605 0.65460844 0.40214916 0.64255616]\n",
      " [0.1456988  0.58902232 0.62228693 0.02037889]\n",
      " [0.54168568 0.3237066  0.04567792 0.26336013]\n",
      " [0.92661337 0.208278   0.63341607 0.55668348]]\n"
     ]
    }
   ],
   "source": [
    "mtrx_4x4 = np.random.random((4,4))\n",
    "print(f\"original:\\n\\n{mtrx_4x4} \\n\") \n",
    "mtrx_4x4_inverted = mtrx_4x4.T\n",
    "print(f\"inverted:\\n\\n{mtrx_4x4_inverted}\")\n"
   ]
  },
  {
   "cell_type": "markdown",
   "id": "846385f9-5c09-4795-a5a4-83c07e57d55b",
   "metadata": {},
   "source": [
    "## 10. Створіть матрицю розміром 3x4 та вектор розміром 4, заповніть їх випадковими цілими числами в діапазоні від 1 до 10 та перемножте матрицю на вектор."
   ]
  },
  {
   "cell_type": "code",
   "execution_count": 11,
   "id": "2c6bd690-63f2-4762-9282-ff3f29beae35",
   "metadata": {
    "collapsed": true,
    "jupyter": {
     "outputs_hidden": true,
     "source_hidden": true
    },
    "scrolled": true,
    "ExecuteTime": {
     "end_time": "2024-03-15T17:36:16.931548Z",
     "start_time": "2024-03-15T17:36:16.922634Z"
    }
   },
   "outputs": [
    {
     "name": "stdout",
     "output_type": "stream",
     "text": [
      "matrix:\n",
      "\n",
      "[[7 9 4 7]\n",
      " [3 3 9 4]\n",
      " [1 9 5 6]]\n",
      "\n",
      "vector:\n",
      "\n",
      "[4 4 3 3]\n",
      "\n",
      "product:\n",
      "\n",
      "[97 63 73]\n"
     ]
    }
   ],
   "source": [
    "m_3x4 = np.random.randint(1,11, size=(3,4))\n",
    "v_4 = np.random.randint(1,10, size=4)\n",
    "print(f\"matrix:\\n\\n{m_3x4}\\n\")\n",
    "print(f\"vector:\\n\\n{v_4}\\n\")\n",
    "print(f\"product:\\n\\n{m_3x4 @ v_4}\")\n",
    "\n"
   ]
  },
  {
   "cell_type": "markdown",
   "id": "ae728ddb-dac2-4e73-826a-4f5f171c249b",
   "metadata": {},
   "source": [
    "## 11. Створіть матрицю розміром 2x3 та вектор розміром 3, заповніть їх випадковими дійсними числами в діапазоні від 0 до 1 та перемножте матрицю на вектор."
   ]
  },
  {
   "cell_type": "code",
   "execution_count": 12,
   "id": "2a2a3c22-338c-4912-96a7-afc8aadeeaac",
   "metadata": {
    "collapsed": true,
    "jupyter": {
     "outputs_hidden": true,
     "source_hidden": true
    },
    "ExecuteTime": {
     "end_time": "2024-03-15T17:36:16.940473Z",
     "start_time": "2024-03-15T17:36:16.932553Z"
    }
   },
   "outputs": [
    {
     "name": "stdout",
     "output_type": "stream",
     "text": [
      "[[0.53513807 0.21804086 0.13552571]\n",
      " [0.64516511 0.74538393 0.3180103 ]]\n",
      "[0.14069182 0.85322199 0.27406481]\n"
     ]
    }
   ],
   "source": [
    "m_2x3 = np.random.random((2,3))\n",
    "vector_3 = np.random.random(3)\n",
    "print(m_2x3)\n",
    "print(vector_3)"
   ]
  },
  {
   "cell_type": "markdown",
   "id": "1440cf9e-481a-4c5f-89e5-15d400ac7ff3",
   "metadata": {},
   "source": [
    "## 12. Створіть дві матриці розміром 2x2, заповніть їх випадковими цілими числами в діапазоні від 1 до 10 та виконайте їхнє поелементне множення."
   ]
  },
  {
   "cell_type": "code",
   "execution_count": 13,
   "id": "f4967fdd-5d2a-4f29-ba6b-e669c978ab75",
   "metadata": {
    "collapsed": true,
    "jupyter": {
     "outputs_hidden": true,
     "source_hidden": true
    },
    "ExecuteTime": {
     "end_time": "2024-03-15T17:36:16.951545Z",
     "start_time": "2024-03-15T17:36:16.941479Z"
    }
   },
   "outputs": [
    {
     "name": "stdout",
     "output_type": "stream",
     "text": [
      "first:\n",
      "[[6 7]\n",
      " [8 3]]\n",
      "\n",
      "second:\n",
      "[[9 8]\n",
      " [5 5]]\n",
      "\n",
      "product:\n",
      "[[54 56]\n",
      " [40 15]]\n"
     ]
    }
   ],
   "source": [
    "m_2x2_1 = np.random.randint(1,10, size=4).reshape(2,2)\n",
    "m_2x2_2 = np.random.randint(1,10, size=4).reshape(2,2)\n",
    "print(f\"first:\\n{m_2x2_1}\\n\")\n",
    "print(f\"second:\\n{m_2x2_2}\\n\")\n",
    "print(f\"product:\\n{m_2x2_1 * m_2x2_2}\")\n"
   ]
  },
  {
   "cell_type": "markdown",
   "id": "63a85e17-a920-4f69-85fc-12848962eea0",
   "metadata": {},
   "source": [
    "## 13. Створіть дві матриці розміром 2x2, заповніть їх випадковими цілими числами в діапазоні від 1 до 10 та знайдіть їх добуток."
   ]
  },
  {
   "cell_type": "code",
   "execution_count": 14,
   "id": "9eaed539-78e2-4827-8cf1-fe441f03f2ea",
   "metadata": {
    "collapsed": true,
    "jupyter": {
     "outputs_hidden": true,
     "source_hidden": true
    },
    "ExecuteTime": {
     "end_time": "2024-03-15T17:36:17.035271Z",
     "start_time": "2024-03-15T17:36:17.030015Z"
    }
   },
   "outputs": [
    {
     "name": "stdout",
     "output_type": "stream",
     "text": [
      "first:\n",
      "[[3 9]\n",
      " [2 6]]\n",
      "\n",
      "second:\n",
      "[[9 6]\n",
      " [1 1]]\n",
      "\n",
      "product:\n",
      "[[36 27]\n",
      " [24 18]]\n"
     ]
    }
   ],
   "source": [
    "m2_2x2_1 = np.random.randint(1,10, size=4).reshape(2,2)\n",
    "m2_2x2_2 = np.random.randint(1,10, size=4).reshape(2,2)\n",
    "print(f\"first:\\n{m2_2x2_1}\\n\")\n",
    "print(f\"second:\\n{m2_2x2_2}\\n\")\n",
    "print(f\"product:\\n{np.dot(m2_2x2_1, m2_2x2_2)}\")"
   ]
  },
  {
   "cell_type": "markdown",
   "id": "d073ea1e-3770-4f5b-9c60-b6b1df5b0c3d",
   "metadata": {},
   "source": [
    "## 14. Створіть матрицю розміром 5x5, заповніть її випадковими цілими числами в діапазоні від 1 до 100 та знайдіть суму елементів матриці."
   ]
  },
  {
   "cell_type": "code",
   "execution_count": 15,
   "id": "b437abf1-a3e9-482c-abbd-9ec843788154",
   "metadata": {
    "collapsed": true,
    "jupyter": {
     "outputs_hidden": true,
     "source_hidden": true
    },
    "ExecuteTime": {
     "end_time": "2024-03-15T17:36:17.049069Z",
     "start_time": "2024-03-15T17:36:17.043963Z"
    }
   },
   "outputs": [
    {
     "name": "stdout",
     "output_type": "stream",
     "text": [
      "matrix:\n",
      "[[96  6 82 16 54]\n",
      " [85 35 25  5 94]\n",
      " [36 64  2 20 43]\n",
      " [89 59 42 61 52]\n",
      " [58 76 96 76 36]]\n",
      "\n",
      "sum = 1308\n"
     ]
    }
   ],
   "source": [
    "m_5x5 = np.random.randint(1,100, size=25).reshape(5,5)\n",
    "print(f\"matrix:\\n{m_5x5}\\n\")\n",
    "print(f\"sum = {np.sum(m_5x5)}\")"
   ]
  },
  {
   "cell_type": "markdown",
   "id": "04aaa30b-d9c1-4109-b322-23eb1e1b6aea",
   "metadata": {},
   "source": [
    "## 15. Створіть дві матриці розміром 4x4, заповніть їх випадковими цілими числами в діапазоні від 1 до 10 та знайдіть їхню різницю."
   ]
  },
  {
   "cell_type": "code",
   "execution_count": 16,
   "id": "2fbf878f-ba71-4974-9f9a-a54347ca7d5f",
   "metadata": {
    "collapsed": true,
    "jupyter": {
     "outputs_hidden": true,
     "source_hidden": true
    },
    "ExecuteTime": {
     "end_time": "2024-03-15T17:36:17.057806Z",
     "start_time": "2024-03-15T17:36:17.052509Z"
    }
   },
   "outputs": [
    {
     "name": "stdout",
     "output_type": "stream",
     "text": [
      "first:\n",
      "[[2 3 3 1]\n",
      " [6 9 3 5]\n",
      " [2 4 4 4]\n",
      " [2 5 8 1]]\n",
      "\n",
      "second:\n",
      "[[8 6 2 1]\n",
      " [1 6 7 8]\n",
      " [3 9 1 9]\n",
      " [1 6 2 1]]\n",
      "\n",
      "diff:\n",
      "[[-6 -3  1  0]\n",
      " [ 5  3 -4 -3]\n",
      " [-1 -5  3 -5]\n",
      " [ 1 -1  6  0]]\n"
     ]
    }
   ],
   "source": [
    "m_diff_1 = np.random.randint(1,10, size=(4,4))\n",
    "m_diff_2 = np.random.randint(1,10, size=(4,4))\n",
    "print(f\"first:\\n{m_diff_1}\\n\")\n",
    "print(f\"second:\\n{m_diff_2}\\n\")\n",
    "print(f\"diff:\\n{m_diff_1 - m_diff_2}\")\n"
   ]
  },
  {
   "cell_type": "markdown",
   "id": "e13a96e5-8cfb-416e-9c33-870c677260cb",
   "metadata": {},
   "source": [
    "## 16. Створіть матрицю розміром 3x3, заповніть її випадковими дійсними числами в діапазоні від 0 до 1 та знайдіть вектор-стовпчик, що містить суму елементів кожного рядка матриці."
   ]
  },
  {
   "cell_type": "code",
   "execution_count": 17,
   "id": "81d55055-3a85-44a8-9989-56992fe956b2",
   "metadata": {
    "ExecuteTime": {
     "end_time": "2024-03-15T17:36:17.094881Z",
     "start_time": "2024-03-15T17:36:17.090788Z"
    }
   },
   "outputs": [
    {
     "name": "stdout",
     "output_type": "stream",
     "text": [
      "Matrix 3x3:\n",
      "[[0.11858545 0.45447877 0.06457167]\n",
      " [0.96496752 0.17274906 0.2382866 ]\n",
      " [0.7428483  0.30800238 0.10790815]]\n",
      "\n",
      "Sum vector:\n",
      "[[0.63763589]\n",
      " [1.37600318]\n",
      " [1.15875883]]\n"
     ]
    }
   ],
   "source": [
    "matrix_3x3 = np.random.random((3, 3))\n",
    "sum_vector = np.sum(matrix_3x3, axis=1).reshape(-1, 1)\n",
    "print(f\"Matrix 3x3:\\n{matrix_3x3}\\n\")\n",
    "print(f\"Sum vector:\\n{sum_vector}\")"
   ]
  },
  {
   "cell_type": "markdown",
   "id": "6cc0d099-48e0-4aea-bd08-69669264de88",
   "metadata": {},
   "source": [
    "## 17. Створіть матрицю розміром 3x4 з довільними цілими числами і створіть матрицю з квадратами цих чисел."
   ]
  },
  {
   "cell_type": "code",
   "execution_count": 18,
   "id": "8250dfa7-ac50-4910-934d-e00f54e2142c",
   "metadata": {
    "collapsed": true,
    "jupyter": {
     "outputs_hidden": true,
     "source_hidden": true
    },
    "ExecuteTime": {
     "end_time": "2024-03-15T17:36:17.104581Z",
     "start_time": "2024-03-15T17:36:17.095885Z"
    }
   },
   "outputs": [
    {
     "name": "stdout",
     "output_type": "stream",
     "text": [
      "original:\n",
      "[[7 4 6 5]\n",
      " [4 2 2 7]\n",
      " [5 4 3 6]]\n",
      "\n",
      "squared:\n",
      "[[49 16 36 25]\n",
      " [16  4  4 49]\n",
      " [25 16  9 36]]\n"
     ]
    }
   ],
   "source": [
    "mtrx = np.random.randint(1,10, size=(3,4))\n",
    "print(f\"original:\\n{mtrx}\\n\")\n",
    "print(f\"squared:\\n{mtrx ** 2}\")\n"
   ]
  },
  {
   "cell_type": "markdown",
   "id": "121e117a-84a7-48db-936a-d428a561bda5",
   "metadata": {},
   "source": [
    "## 18. Створіть вектор розміром 4, заповніть його випадковими цілими числами в діапазоні від 1 до 50 та знайдіть вектор з квадратними коренями цих чисел."
   ]
  },
  {
   "cell_type": "code",
   "execution_count": 19,
   "id": "c4ef411e-5ba9-449f-8d06-518aff5130fe",
   "metadata": {
    "collapsed": true,
    "jupyter": {
     "outputs_hidden": true,
     "source_hidden": true
    },
    "ExecuteTime": {
     "end_time": "2024-03-15T17:36:17.115634Z",
     "start_time": "2024-03-15T17:36:17.110183Z"
    }
   },
   "outputs": [
    {
     "name": "stdout",
     "output_type": "stream",
     "text": [
      "vector:\n",
      "[ 7 16 28 35]\n",
      "rooted vector:\n",
      "[2.64575131 4.         5.29150262 5.91607978]\n"
     ]
    }
   ],
   "source": [
    "vect = np.random.randint(1,50, size=4)\n",
    "print(f\"vector:\\n{vect}\")\n",
    "print(f\"rooted vector:\\n{np.sqrt(vect)}\")"
   ]
  }
 ],
 "metadata": {
  "kernelspec": {
   "name": "python3",
   "language": "python",
   "display_name": "Python 3 (ipykernel)"
  },
  "language_info": {
   "codemirror_mode": {
    "name": "ipython",
    "version": 3
   },
   "file_extension": ".py",
   "mimetype": "text/x-python",
   "name": "python",
   "nbconvert_exporter": "python",
   "pygments_lexer": "ipython3",
   "version": "3.11.5"
  }
 },
 "nbformat": 4,
 "nbformat_minor": 5
}
