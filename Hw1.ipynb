{
 "cells": [
  {
   "cell_type": "code",
   "execution_count": 4,
   "id": "95b3d8a5-0a95-4ea9-8a6e-f10f9fb7a330",
   "metadata": {
    "collapsed": true,
    "jupyter": {
     "outputs_hidden": true,
     "source_hidden": true
    },
    "ExecuteTime": {
     "end_time": "2024-03-05T16:34:58.069666Z",
     "start_time": "2024-03-05T16:34:58.066790Z"
    }
   },
   "outputs": [],
   "source": [
    "import numpy as np"
   ]
  },
  {
   "cell_type": "markdown",
   "id": "13bad019-b264-441e-bd92-56df0d558cd8",
   "metadata": {},
   "source": [
    "## 1. Створіть одновимірний масив (вектор) з першими 10-ма натуральними числами та виведіть його значення."
   ]
  },
  {
   "cell_type": "code",
   "execution_count": 5,
   "id": "badd23f0-acd7-4ac0-8cfe-c8cd1b37de72",
   "metadata": {
    "collapsed": true,
    "jupyter": {
     "outputs_hidden": true,
     "source_hidden": true
    },
    "ExecuteTime": {
     "end_time": "2024-03-05T16:34:58.122861Z",
     "start_time": "2024-03-05T16:34:58.119344Z"
    }
   },
   "outputs": [
    {
     "name": "stdout",
     "output_type": "stream",
     "text": [
      "[ 1  2  3  4  5  6  7  8  9 10]\n"
     ]
    }
   ],
   "source": [
    "arr = np.linspace(1,10, num=10,dtype=int)\n",
    "print(arr)"
   ]
  },
  {
   "cell_type": "markdown",
   "id": "0b661016-3561-47f0-a29e-95663154d979",
   "metadata": {},
   "source": [
    "## 2. Створіть двовимірний масив (матрицю) розміром 3x3, заповніть його нулями та виведіть його значення.\n"
   ]
  },
  {
   "cell_type": "code",
   "execution_count": 6,
   "id": "dda43d68-831d-4466-bb57-4699d3f6961e",
   "metadata": {
    "collapsed": true,
    "jupyter": {
     "outputs_hidden": true,
     "source_hidden": true
    },
    "scrolled": true,
    "ExecuteTime": {
     "end_time": "2024-03-05T16:34:58.128897Z",
     "start_time": "2024-03-05T16:34:58.123867Z"
    }
   },
   "outputs": [
    {
     "name": "stdout",
     "output_type": "stream",
     "text": [
      "[[0 0 0]\n",
      " [0 0 0]\n",
      " [0 0 0]]\n"
     ]
    }
   ],
   "source": [
    "matrix = np.zeros((3, 3), dtype=int)\n",
    "print(matrix)"
   ]
  },
  {
   "cell_type": "markdown",
   "id": "9d821506-700c-43b5-ad96-27fe89559ac7",
   "metadata": {
    "jp-MarkdownHeadingCollapsed": true
   },
   "source": [
    "## 3. Створіть масив розміром 5x5, заповніть його випадковими цілими числами в діапазоні від 1 до 10 та виведіть його значення.\n"
   ]
  },
  {
   "cell_type": "code",
   "execution_count": 7,
   "id": "00c9bb6d-5b63-4c5a-b762-61d59d0fd8cb",
   "metadata": {
    "collapsed": true,
    "jupyter": {
     "outputs_hidden": true,
     "source_hidden": true
    },
    "scrolled": true,
    "ExecuteTime": {
     "end_time": "2024-03-05T16:34:58.135210Z",
     "start_time": "2024-03-05T16:34:58.130902Z"
    }
   },
   "outputs": [
    {
     "name": "stdout",
     "output_type": "stream",
     "text": [
      "[[8 2 6 9 2]\n",
      " [4 9 4 3 5]\n",
      " [9 2 7 4 8]\n",
      " [3 4 7 2 1]\n",
      " [4 7 3 4 9]]\n"
     ]
    }
   ],
   "source": [
    "matrix_5x5 = np.random.randint(1, 10, size=(5,5))\n",
    "print(matrix_5x5)"
   ]
  },
  {
   "cell_type": "markdown",
   "id": "42aaac28-833c-4651-a4d1-9464a3efe2b0",
   "metadata": {
    "jp-MarkdownHeadingCollapsed": true
   },
   "source": [
    "## 4. Створіть масив розміром 4x4, заповніть його випадковими дійсними числами в діапазоні від 0 до 1 та виведіть його значення.\n"
   ]
  },
  {
   "cell_type": "code",
   "execution_count": 8,
   "id": "5e1d3288-155a-407c-a31c-836e7bc525e0",
   "metadata": {
    "collapsed": true,
    "jupyter": {
     "outputs_hidden": true,
     "source_hidden": true
    },
    "ExecuteTime": {
     "end_time": "2024-03-05T16:34:58.140370Z",
     "start_time": "2024-03-05T16:34:58.136216Z"
    }
   },
   "outputs": [
    {
     "name": "stdout",
     "output_type": "stream",
     "text": [
      "[[0.09905665 0.38290801 0.97297346 0.6701146 ]\n",
      " [0.94078315 0.80513317 0.20044792 0.26298101]\n",
      " [0.42283495 0.10152455 0.68940696 0.7300893 ]\n",
      " [0.85204926 0.83634373 0.83559122 0.86847866]]\n"
     ]
    }
   ],
   "source": [
    "matrix_4x4 = np.random.random((4,4))\n",
    "print(matrix_4x4)"
   ]
  },
  {
   "cell_type": "markdown",
   "id": "0afc00a1-5d8c-45e1-83f5-e0403cba1731",
   "metadata": {},
   "source": [
    "## 5. Створіть два одновимірних масиви розміром 5, заповніть їх випадковими цілими числами в діапазоні від 1 до 10 та виконайте на них поелементні операції додавання, віднімання та множення."
   ]
  },
  {
   "cell_type": "code",
   "execution_count": 9,
   "id": "e3e58596-761a-4df6-a5bc-cd5c75e47fea",
   "metadata": {
    "collapsed": true,
    "jupyter": {
     "outputs_hidden": true,
     "source_hidden": true
    },
    "ExecuteTime": {
     "end_time": "2024-03-05T16:34:58.151082Z",
     "start_time": "2024-03-05T16:34:58.145375Z"
    }
   },
   "outputs": [
    {
     "name": "stdout",
     "output_type": "stream",
     "text": [
      "first matrix: \n",
      "[[8 2 8 9 5]\n",
      " [9 9 6 6 3]\n",
      " [1 6 6 9 4]\n",
      " [7 5 5 8 2]\n",
      " [1 8 6 6 8]]\n",
      "\n",
      "second matrix: \n",
      "[[1 3 7 3 2]\n",
      " [6 8 2 5 3]\n",
      " [5 7 9 7 7]\n",
      " [1 7 5 9 5]\n",
      " [4 3 4 8 4]]\n",
      "\n",
      "sum:  \n",
      "[[ 9  5 15 12  7]\n",
      " [15 17  8 11  6]\n",
      " [ 6 13 15 16 11]\n",
      " [ 8 12 10 17  7]\n",
      " [ 5 11 10 14 12]]\n",
      "\n",
      "diff:  \n",
      "[[ 7 -1  1  6  3]\n",
      " [ 3  1  4  1  0]\n",
      " [-4 -1 -3  2 -3]\n",
      " [ 6 -2  0 -1 -3]\n",
      " [-3  5  2 -2  4]]\n",
      "\n",
      "prod:  \n",
      "[[ 8  6 56 27 10]\n",
      " [54 72 12 30  9]\n",
      " [ 5 42 54 63 28]\n",
      " [ 7 35 25 72 10]\n",
      " [ 4 24 24 48 32]]\n"
     ]
    }
   ],
   "source": [
    "m5_1 = np.random.randint(1, 10, size=(5,5))\n",
    "m5_2 = np.random.randint(1, 10, size=(5,5))\n",
    "mm_sum = m5_1 + m5_2\n",
    "mm_diff = m5_1 - m5_2\n",
    "mm_prod = m5_1 * m5_2\n",
    "print(f\"first matrix: \\n{m5_1}\\n\")\n",
    "print(f\"second matrix: \\n{m5_2}\\n\")\n",
    "print(f\"sum:  \\n{mm_sum}\\n\")\n",
    "print(f\"diff:  \\n{mm_diff}\\n\")\n",
    "print(f\"prod:  \\n{mm_prod}\")"
   ]
  },
  {
   "cell_type": "markdown",
   "id": "ab0e93fa-089c-449b-bbf3-f8aa03fdb91f",
   "metadata": {},
   "source": [
    "## 6. Створіть два вектори розміром 7, заповніть довільними числами та знайдіть їх скалярний добуток."
   ]
  },
  {
   "cell_type": "code",
   "execution_count": 10,
   "id": "9e11a280-2bee-4d4c-8ef7-05b4310e62fd",
   "metadata": {
    "collapsed": true,
    "jupyter": {
     "outputs_hidden": true,
     "source_hidden": true
    },
    "ExecuteTime": {
     "end_time": "2024-03-05T16:34:58.202513Z",
     "start_time": "2024-03-05T16:34:58.198539Z"
    }
   },
   "outputs": [
    {
     "name": "stdout",
     "output_type": "stream",
     "text": [
      "first vector: [5 9 4 5 2 5 2]\n",
      "second vector: [9 3 9 3 1 0 8]\n",
      "scalar product: 141\n"
     ]
    }
   ],
   "source": [
    "v_1 = np.random.randint(10, size=7)\n",
    "v_2 = np.random.randint(10, size=7)\n",
    "print(f\"first vector: {v_1}\")\n",
    "print(f\"second vector: {v_2}\")\n",
    "print(f\"scalar product: {np.dot(v_1, v_2)}\")"
   ]
  },
  {
   "cell_type": "markdown",
   "id": "eda14884-1f89-4a24-8fae-d8f299912fda",
   "metadata": {},
   "source": [
    "## 7. Створіть дві матриці розміром 2x2 та 2x3, заповніть їх випадковими цілими числами в діапазоні від 1 до 10 та перемножте їх між собою."
   ]
  },
  {
   "cell_type": "code",
   "execution_count": 11,
   "id": "b6315c56-2daa-45bd-9234-fb9a660bc0bb",
   "metadata": {
    "collapsed": true,
    "jupyter": {
     "outputs_hidden": true,
     "source_hidden": true
    },
    "ExecuteTime": {
     "end_time": "2024-03-05T16:34:58.219194Z",
     "start_time": "2024-03-05T16:34:58.214530Z"
    }
   },
   "outputs": [
    {
     "name": "stdout",
     "output_type": "stream",
     "text": [
      "matrix 2x2: \n",
      "[[10  7]\n",
      " [ 4  4]]\n",
      "\n",
      "matrix 2x3: \n",
      "[[8 6 7]\n",
      " [2 1 6]]\n",
      "\n",
      "[[ 94  67 112]\n",
      " [ 40  28  52]]\n"
     ]
    }
   ],
   "source": [
    "matrix_2x2 = np.random.randint(1,11, size=4).reshape(2,2)\n",
    "print(f\"matrix 2x2: \\n{matrix_2x2}\\n\")\n",
    "matrix_2x3 = np.random.randint(1,11, size=6).reshape(2,3)\n",
    "print(f\"matrix 2x3: \\n{matrix_2x3}\\n\")\n",
    "print(np.dot(matrix_2x2, matrix_2x3))"
   ]
  },
  {
   "cell_type": "markdown",
   "id": "1ce5a2c3-8f93-4f63-bd91-5383bf564c26",
   "metadata": {},
   "source": [
    "## 8. Створіть матрицю розміром 3x3, заповніть її випадковими цілими числами в діапазоні від 1 до 10 та знайдіть її обернену матрицю."
   ]
  },
  {
   "cell_type": "code",
   "execution_count": 12,
   "id": "6b667c1e-921e-4954-b5df-cad79f2bbcfe",
   "metadata": {
    "collapsed": true,
    "jupyter": {
     "outputs_hidden": true,
     "source_hidden": true
    },
    "ExecuteTime": {
     "end_time": "2024-03-05T16:34:58.237437Z",
     "start_time": "2024-03-05T16:34:58.225199Z"
    }
   },
   "outputs": [
    {
     "name": "stdout",
     "output_type": "stream",
     "text": [
      "original matrix: \n",
      " [[2 6 6]\n",
      " [2 2 3]\n",
      " [5 9 3]] \n",
      "\n",
      "inverted: \n",
      " [[-0.35        0.6         0.1       ]\n",
      " [ 0.15       -0.4         0.1       ]\n",
      " [ 0.13333333  0.2        -0.13333333]]\n"
     ]
    }
   ],
   "source": [
    "m_3x3_original = np.random.randint(1,11, size=(3,3))\n",
    "m_3x3_inverted = np.linalg.inv(m_3x3_original)\n",
    "print(f\"original matrix: \\n {m_3x3_original} \\n\")\n",
    "print(f\"inverted: \\n {m_3x3_inverted}\")"
   ]
  },
  {
   "cell_type": "markdown",
   "id": "e2643f12-3f64-47f6-95a6-1f3ace91fb29",
   "metadata": {},
   "source": [
    "## 9. Створіть матрицю розміром 4x4, заповніть її випадковими дійсними числами в діапазоні від 0 до 1 та транспонуйте її."
   ]
  },
  {
   "cell_type": "code",
   "execution_count": 13,
   "id": "adc31d3e-b7cd-41af-b663-cdea47fb26b4",
   "metadata": {
    "collapsed": true,
    "jupyter": {
     "outputs_hidden": true,
     "source_hidden": true
    },
    "ExecuteTime": {
     "end_time": "2024-03-05T16:34:58.277977Z",
     "start_time": "2024-03-05T16:34:58.273927Z"
    }
   },
   "outputs": [
    {
     "name": "stdout",
     "output_type": "stream",
     "text": [
      "original:\n",
      "\n",
      "[[0.36299267 0.70726649 0.76720675 0.0171619 ]\n",
      " [0.49589831 0.17223511 0.06649966 0.66363743]\n",
      " [0.14675366 0.12240035 0.47981824 0.364611  ]\n",
      " [0.63198417 0.16059261 0.56736689 0.70901193]] \n",
      "\n",
      "inverted:\n",
      "\n",
      "[[0.36299267 0.49589831 0.14675366 0.63198417]\n",
      " [0.70726649 0.17223511 0.12240035 0.16059261]\n",
      " [0.76720675 0.06649966 0.47981824 0.56736689]\n",
      " [0.0171619  0.66363743 0.364611   0.70901193]]\n"
     ]
    }
   ],
   "source": [
    "mtrx_4x4 = np.random.random((4,4))\n",
    "print(f\"original:\\n\\n{mtrx_4x4} \\n\") \n",
    "mtrx_4x4_inverted = mtrx_4x4.T\n",
    "print(f\"inverted:\\n\\n{mtrx_4x4_inverted}\")\n"
   ]
  },
  {
   "cell_type": "markdown",
   "id": "846385f9-5c09-4795-a5a4-83c07e57d55b",
   "metadata": {},
   "source": [
    "## 10. Створіть матрицю розміром 3x4 та вектор розміром 4, заповніть їх випадковими цілими числами в діапазоні від 1 до 10 та перемножте матрицю на вектор."
   ]
  },
  {
   "cell_type": "code",
   "execution_count": 14,
   "id": "2c6bd690-63f2-4762-9282-ff3f29beae35",
   "metadata": {
    "collapsed": true,
    "jupyter": {
     "outputs_hidden": true,
     "source_hidden": true
    },
    "scrolled": true,
    "ExecuteTime": {
     "end_time": "2024-03-05T16:34:58.290541Z",
     "start_time": "2024-03-05T16:34:58.286002Z"
    }
   },
   "outputs": [
    {
     "name": "stdout",
     "output_type": "stream",
     "text": [
      "matrix:\n",
      "\n",
      "[[ 8  3  3  6]\n",
      " [10  1 10  7]\n",
      " [10  1  6  2]]\n",
      "\n",
      "vector:\n",
      "\n",
      "[5 3 2 5]\n",
      "\n",
      "product:\n",
      "\n",
      "[ 85 108  75]\n"
     ]
    }
   ],
   "source": [
    "m_3x4 = np.random.randint(1,11, size=(3,4))\n",
    "v_4 = np.random.randint(1,10, size=4)\n",
    "print(f\"matrix:\\n\\n{m_3x4}\\n\")\n",
    "print(f\"vector:\\n\\n{v_4}\\n\")\n",
    "print(f\"product:\\n\\n{m_3x4 @ v_4}\")\n",
    "\n"
   ]
  },
  {
   "cell_type": "markdown",
   "id": "ae728ddb-dac2-4e73-826a-4f5f171c249b",
   "metadata": {},
   "source": [
    "## 11. Створіть матрицю розміром 2x3 та вектор розміром 3, заповніть їх випадковими дійсними числами в діапазоні від 0 до 1 та перемножте матрицю на вектор."
   ]
  },
  {
   "cell_type": "code",
   "execution_count": 15,
   "id": "2a2a3c22-338c-4912-96a7-afc8aadeeaac",
   "metadata": {
    "collapsed": true,
    "jupyter": {
     "outputs_hidden": true,
     "source_hidden": true
    },
    "ExecuteTime": {
     "end_time": "2024-03-05T16:34:58.297039Z",
     "start_time": "2024-03-05T16:34:58.291581Z"
    }
   },
   "outputs": [
    {
     "name": "stdout",
     "output_type": "stream",
     "text": [
      "[[0.50848426 0.76179546 0.09841573]\n",
      " [0.68430105 0.38906569 0.21949415]]\n",
      "[0.40562242 0.70551753 0.81679321]\n"
     ]
    }
   ],
   "source": [
    "m_2x3 = np.random.random((2,3))\n",
    "vector_3 = np.random.random(3)\n",
    "print(m_2x3)\n",
    "print(vector_3)"
   ]
  },
  {
   "cell_type": "markdown",
   "id": "1440cf9e-481a-4c5f-89e5-15d400ac7ff3",
   "metadata": {},
   "source": [
    "## 12. Створіть дві матриці розміром 2x2, заповніть їх випадковими цілими числами в діапазоні від 1 до 10 та виконайте їхнє поелементне множення."
   ]
  },
  {
   "cell_type": "code",
   "execution_count": 16,
   "id": "f4967fdd-5d2a-4f29-ba6b-e669c978ab75",
   "metadata": {
    "collapsed": true,
    "jupyter": {
     "outputs_hidden": true,
     "source_hidden": true
    },
    "ExecuteTime": {
     "end_time": "2024-03-05T16:34:58.306332Z",
     "start_time": "2024-03-05T16:34:58.298043Z"
    }
   },
   "outputs": [
    {
     "name": "stdout",
     "output_type": "stream",
     "text": [
      "first:\n",
      "[[9 6]\n",
      " [6 5]]\n",
      "\n",
      "second:\n",
      "[[7 8]\n",
      " [9 9]]\n",
      "\n",
      "product:\n",
      "[[63 48]\n",
      " [54 45]]\n"
     ]
    }
   ],
   "source": [
    "m_2x2_1 = np.random.randint(1,10, size=4).reshape(2,2)\n",
    "m_2x2_2 = np.random.randint(1,10, size=4).reshape(2,2)\n",
    "print(f\"first:\\n{m_2x2_1}\\n\")\n",
    "print(f\"second:\\n{m_2x2_2}\\n\")\n",
    "print(f\"product:\\n{m_2x2_1 * m_2x2_2}\")\n"
   ]
  },
  {
   "cell_type": "markdown",
   "id": "63a85e17-a920-4f69-85fc-12848962eea0",
   "metadata": {},
   "source": [
    "## 13. Створіть дві матриці розміром 2x2, заповніть їх випадковими цілими числами в діапазоні від 1 до 10 та знайдіть їх добуток."
   ]
  },
  {
   "cell_type": "code",
   "execution_count": 17,
   "id": "9eaed539-78e2-4827-8cf1-fe441f03f2ea",
   "metadata": {
    "collapsed": true,
    "jupyter": {
     "outputs_hidden": true,
     "source_hidden": true
    },
    "ExecuteTime": {
     "end_time": "2024-03-05T16:34:58.358585Z",
     "start_time": "2024-03-05T16:34:58.354584Z"
    }
   },
   "outputs": [
    {
     "name": "stdout",
     "output_type": "stream",
     "text": [
      "first:\n",
      "[[9 1]\n",
      " [3 3]]\n",
      "\n",
      "second:\n",
      "[[1 8]\n",
      " [9 2]]\n",
      "\n",
      "product:\n",
      "[[18 74]\n",
      " [30 30]]\n"
     ]
    }
   ],
   "source": [
    "m2_2x2_1 = np.random.randint(1,10, size=4).reshape(2,2)\n",
    "m2_2x2_2 = np.random.randint(1,10, size=4).reshape(2,2)\n",
    "print(f\"first:\\n{m2_2x2_1}\\n\")\n",
    "print(f\"second:\\n{m2_2x2_2}\\n\")\n",
    "print(f\"product:\\n{np.dot(m2_2x2_1, m2_2x2_2)}\")"
   ]
  },
  {
   "cell_type": "markdown",
   "id": "d073ea1e-3770-4f5b-9c60-b6b1df5b0c3d",
   "metadata": {},
   "source": [
    "## 14. Створіть матрицю розміром 5x5, заповніть її випадковими цілими числами в діапазоні від 1 до 100 та знайдіть суму елементів матриці."
   ]
  },
  {
   "cell_type": "code",
   "execution_count": 18,
   "id": "b437abf1-a3e9-482c-abbd-9ec843788154",
   "metadata": {
    "collapsed": true,
    "jupyter": {
     "outputs_hidden": true,
     "source_hidden": true
    },
    "ExecuteTime": {
     "end_time": "2024-03-05T16:34:58.373405Z",
     "start_time": "2024-03-05T16:34:58.368968Z"
    }
   },
   "outputs": [
    {
     "name": "stdout",
     "output_type": "stream",
     "text": [
      "matrix:\n",
      "[[96 60 54 32 50]\n",
      " [ 1 33 46 13 30]\n",
      " [75 53  1 42 38]\n",
      " [77 58 62 66 14]\n",
      " [89 29 84 59  5]]\n",
      "\n",
      "sum = 1167\n"
     ]
    }
   ],
   "source": [
    "m_5x5 = np.random.randint(1,100, size=25).reshape(5,5)\n",
    "print(f\"matrix:\\n{m_5x5}\\n\")\n",
    "print(f\"sum = {np.sum(m_5x5)}\")"
   ]
  },
  {
   "cell_type": "markdown",
   "id": "04aaa30b-d9c1-4109-b322-23eb1e1b6aea",
   "metadata": {},
   "source": [
    "## 15. Створіть дві матриці розміром 4x4, заповніть їх випадковими цілими числами в діапазоні від 1 до 10 та знайдіть їхню різницю."
   ]
  },
  {
   "cell_type": "code",
   "execution_count": 19,
   "id": "2fbf878f-ba71-4974-9f9a-a54347ca7d5f",
   "metadata": {
    "collapsed": true,
    "jupyter": {
     "outputs_hidden": true,
     "source_hidden": true
    },
    "ExecuteTime": {
     "end_time": "2024-03-05T16:34:58.383518Z",
     "start_time": "2024-03-05T16:34:58.379212Z"
    }
   },
   "outputs": [
    {
     "name": "stdout",
     "output_type": "stream",
     "text": [
      "first:\n",
      "[[4 2 4 4]\n",
      " [8 6 2 6]\n",
      " [2 2 1 4]\n",
      " [5 9 8 9]]\n",
      "\n",
      "second:\n",
      "[[5 4 4 1]\n",
      " [5 4 3 8]\n",
      " [6 3 5 4]\n",
      " [1 4 8 2]]\n",
      "\n",
      "diff:\n",
      "[[-1 -2  0  3]\n",
      " [ 3  2 -1 -2]\n",
      " [-4 -1 -4  0]\n",
      " [ 4  5  0  7]]\n"
     ]
    }
   ],
   "source": [
    "m_diff_1 = np.random.randint(1,10, size=(4,4))\n",
    "m_diff_2 = np.random.randint(1,10, size=(4,4))\n",
    "print(f\"first:\\n{m_diff_1}\\n\")\n",
    "print(f\"second:\\n{m_diff_2}\\n\")\n",
    "print(f\"diff:\\n{m_diff_1 - m_diff_2}\")\n"
   ]
  },
  {
   "cell_type": "markdown",
   "id": "e13a96e5-8cfb-416e-9c33-870c677260cb",
   "metadata": {},
   "source": [
    "## 16. Створіть матрицю розміром 3x3, заповніть її випадковими дійсними числами в діапазоні від 0 до 1 та знайдіть вектор-стовпчик, що містить суму елементів кожного рядка матриці."
   ]
  },
  {
   "cell_type": "code",
   "execution_count": 20,
   "id": "81d55055-3a85-44a8-9989-56992fe956b2",
   "metadata": {
    "ExecuteTime": {
     "end_time": "2024-03-05T16:34:58.439032Z",
     "start_time": "2024-03-05T16:34:58.434723Z"
    }
   },
   "outputs": [
    {
     "name": "stdout",
     "output_type": "stream",
     "text": [
      "Matrix 3x3:\n",
      "[[0.07758441 0.5610128  0.7031832 ]\n",
      " [0.89737177 0.34985403 0.28868177]\n",
      " [0.90920623 0.48497676 0.97069838]]\n",
      "\n",
      "Sum vector:\n",
      "[[1.3417804 ]\n",
      " [1.53590757]\n",
      " [2.36488137]]\n"
     ]
    }
   ],
   "source": [
    "matrix_3x3 = np.random.random((3, 3))\n",
    "sum_vector = np.sum(matrix_3x3, axis=1).reshape(-1, 1)\n",
    "print(f\"Matrix 3x3:\\n{matrix_3x3}\\n\")\n",
    "print(f\"Sum vector:\\n{sum_vector}\")"
   ]
  },
  {
   "cell_type": "markdown",
   "id": "6cc0d099-48e0-4aea-bd08-69669264de88",
   "metadata": {},
   "source": [
    "## 17. Створіть матрицю розміром 3x4 з довільними цілими числами і створіть матрицю з квадратами цих чисел."
   ]
  },
  {
   "cell_type": "code",
   "execution_count": 21,
   "id": "8250dfa7-ac50-4910-934d-e00f54e2142c",
   "metadata": {
    "collapsed": true,
    "jupyter": {
     "outputs_hidden": true,
     "source_hidden": true
    },
    "ExecuteTime": {
     "end_time": "2024-03-05T16:34:58.455488Z",
     "start_time": "2024-03-05T16:34:58.450816Z"
    }
   },
   "outputs": [
    {
     "name": "stdout",
     "output_type": "stream",
     "text": [
      "original:\n",
      "[[4 3 6 3]\n",
      " [1 2 6 6]\n",
      " [8 3 9 7]]\n",
      "\n",
      "squared:\n",
      "[[16  9 36  9]\n",
      " [ 1  4 36 36]\n",
      " [64  9 81 49]]\n"
     ]
    }
   ],
   "source": [
    "mtrx = np.random.randint(1,10, size=(3,4))\n",
    "print(f\"original:\\n{mtrx}\\n\")\n",
    "print(f\"squared:\\n{mtrx ** 2}\")\n"
   ]
  },
  {
   "cell_type": "markdown",
   "id": "121e117a-84a7-48db-936a-d428a561bda5",
   "metadata": {},
   "source": [
    "## 18. Створіть вектор розміром 4, заповніть його випадковими цілими числами в діапазоні від 1 до 50 та знайдіть вектор з квадратними коренями цих чисел."
   ]
  },
  {
   "cell_type": "code",
   "execution_count": 22,
   "id": "c4ef411e-5ba9-449f-8d06-518aff5130fe",
   "metadata": {
    "collapsed": true,
    "jupyter": {
     "outputs_hidden": true,
     "source_hidden": true
    },
    "ExecuteTime": {
     "end_time": "2024-03-05T16:34:58.465700Z",
     "start_time": "2024-03-05T16:34:58.461493Z"
    }
   },
   "outputs": [
    {
     "name": "stdout",
     "output_type": "stream",
     "text": [
      "vector:\n",
      "[11 18 37 43]\n",
      "rooted vector:\n",
      "[3.31662479 4.24264069 6.08276253 6.55743852]\n"
     ]
    }
   ],
   "source": [
    "vect = np.random.randint(1,50, size=4)\n",
    "print(f\"vector:\\n{vect}\")\n",
    "print(f\"rooted vector:\\n{np.sqrt(vect)}\")"
   ]
  }
 ],
 "metadata": {
  "kernelspec": {
   "name": "python3",
   "language": "python",
   "display_name": "Python 3 (ipykernel)"
  },
  "language_info": {
   "codemirror_mode": {
    "name": "ipython",
    "version": 3
   },
   "file_extension": ".py",
   "mimetype": "text/x-python",
   "name": "python",
   "nbconvert_exporter": "python",
   "pygments_lexer": "ipython3",
   "version": "3.11.5"
  }
 },
 "nbformat": 4,
 "nbformat_minor": 5
}
