{
 "cells": [
  {
   "cell_type": "markdown",
   "source": [
    "# HW12"
   ],
   "metadata": {
    "collapsed": false
   },
   "id": "49c7633d7d4b2d4f"
  },
  {
   "cell_type": "markdown",
   "source": [
    "## Завантаження тексту"
   ],
   "metadata": {
    "collapsed": false
   },
   "id": "27961b6731edcf85"
  },
  {
   "cell_type": "code",
   "execution_count": 1,
   "id": "initial_id",
   "metadata": {
    "collapsed": true,
    "ExecuteTime": {
     "end_time": "2024-05-24T07:57:38.770351Z",
     "start_time": "2024-05-24T07:57:38.766390Z"
    }
   },
   "outputs": [],
   "source": [
    "with open(\"text.txt\", \"r\", encoding=\"utf-8\") as f:\n",
    "    text = f.read()\n"
   ]
  },
  {
   "cell_type": "code",
   "outputs": [
    {
     "data": {
      "text/plain": "'The Orbiter Discovery, OV-103, is considered eligible for listing in the National Register of Historic Places (NRHP) in the context of the U.S. Space Shuttle Program (1969-2011) under Criterion A in the areas of Space Exploration and Transportation and under Criterion C in the area of Engineering. Because it has achieved significance within the past fifty years, Criteria Consideration G applies. Under Criterion A, Discovery is significant as the oldest of the three extant orbiter vehicles constructed for the Space Shuttle Program (SSP), the longest running American space program to date; she was the third of five orbiters built by NASA. Unlike the Mercury, Gemini, and Apollo programs, the SSP’s emphasis was on cost effectiveness and reusability, and eventually the construction of a space station. Including her maiden voyage (launched August 30, 1984), Discovery flew to space thirty-nine times, more than any of the other four orbiters; she was also the first orbiter to fly twenty missions. She had the honor of being chosen as the Return to Flight vehicle after both the Challenger and Columbia accidents. Discovery was the first shuttle to fly with the redesigned SRBs, a result of the Challenger accident, and the first shuttle to fly with the Phase II and Block I SSME. Discovery also carried the Hubble Space Telescope to orbit and performed two of the five servicing missions to the observatory. She flew the first and last dedicated Department of Defense (DoD) missions, as well as the first unclassified defense-related mission. In addition, Discovery was vital to the construction of the International Space Station (ISS); she flew thirteen of the thirty-seven total missions flown to the station by a U.S. Space Shuttle. She was the first orbiter to dock to the ISS, and the first to perform an exchange of a resident crew. Under Criterion C, Discovery is significant as a feat of engineering. According to Wayne Hale, a flight director from Johnson Space Center, the Space Shuttle orbiter represents a “huge technological leap from expendable rockets and capsules to a reusable, winged, hypersonic, cargo-carrying spacecraft.” Although her base structure followed a conventional aircraft design, she used advanced materials that both minimized her weight for cargo-carrying purposes and featured low thermal expansion ratios, which provided a stable base for her Thermal Protection System (TPS) materials. The Space Shuttle orbiter also featured the first reusable TPS; all previous spaceflight vehicles had a single-use, ablative heat shield. Other notable engineering achievements of the orbiter included the first reusable orbital propulsion system, and the first two-fault-tolerant Integrated Avionics System. As Hale stated, the Space Shuttle remains “the largest, fastest, winged hypersonic aircraft in history,” having regularly flown at twenty-five times the speed of sound.\\n'"
     },
     "execution_count": 2,
     "metadata": {},
     "output_type": "execute_result"
    }
   ],
   "source": [
    "text"
   ],
   "metadata": {
    "collapsed": false,
    "ExecuteTime": {
     "end_time": "2024-05-24T07:57:38.781659Z",
     "start_time": "2024-05-24T07:57:38.771357Z"
    }
   },
   "id": "79b363f4c74372be",
   "execution_count": 2
  },
  {
   "cell_type": "markdown",
   "source": [
    "## Підготовка тексту та обчислення важливих слів на основі частоти їх використання"
   ],
   "metadata": {
    "collapsed": false
   },
   "id": "23bae99801d6ada"
  },
  {
   "cell_type": "code",
   "outputs": [],
   "source": [
    "from string import punctuation, whitespace\n",
    "\n",
    "import spacy\n",
    "from spacy.lang.en.stop_words import STOP_WORDS"
   ],
   "metadata": {
    "collapsed": false,
    "ExecuteTime": {
     "end_time": "2024-05-24T08:17:41.053065Z",
     "start_time": "2024-05-24T08:17:41.049854Z"
    }
   },
   "id": "936524c9e1f569aa",
   "execution_count": 36
  },
  {
   "cell_type": "code",
   "outputs": [
    {
     "data": {
      "text/plain": "'!\"#$%&\\'()*+,-./:;<=>?@[\\\\]^_`{|}~”“'"
     },
     "execution_count": 37,
     "metadata": {},
     "output_type": "execute_result"
    }
   ],
   "source": [
    "punctuation = punctuation + '”' + '“'\n",
    "punctuation\n"
   ],
   "metadata": {
    "collapsed": false,
    "ExecuteTime": {
     "end_time": "2024-05-24T08:17:43.252712Z",
     "start_time": "2024-05-24T08:17:43.248474Z"
    }
   },
   "id": "44344828d2974acc",
   "execution_count": 37
  },
  {
   "cell_type": "code",
   "outputs": [],
   "source": [
    "nlp = spacy.load('en_core_web_sm')"
   ],
   "metadata": {
    "collapsed": false,
    "ExecuteTime": {
     "end_time": "2024-05-24T08:17:46.224281Z",
     "start_time": "2024-05-24T08:17:45.709006Z"
    }
   },
   "id": "7e9f2145ad8ad919",
   "execution_count": 39
  },
  {
   "cell_type": "code",
   "outputs": [],
   "source": [
    "doc = nlp(text)"
   ],
   "metadata": {
    "collapsed": false,
    "ExecuteTime": {
     "end_time": "2024-05-24T08:17:48.212892Z",
     "start_time": "2024-05-24T08:17:48.135997Z"
    }
   },
   "id": "75cf744cd8996f85",
   "execution_count": 40
  },
  {
   "cell_type": "code",
   "outputs": [
    {
     "data": {
      "text/plain": "997"
     },
     "execution_count": 41,
     "metadata": {},
     "output_type": "execute_result"
    }
   ],
   "source": [
    "doc.vocab.length"
   ],
   "metadata": {
    "collapsed": false,
    "ExecuteTime": {
     "end_time": "2024-05-24T08:17:50.175173Z",
     "start_time": "2024-05-24T08:17:50.171334Z"
    }
   },
   "id": "c8ac114a57b19fab",
   "execution_count": 41
  },
  {
   "cell_type": "markdown",
   "source": [
    "## Створення словника частоти використання слів"
   ],
   "metadata": {
    "collapsed": false
   },
   "id": "c6c2370f0869aa4c"
  },
  {
   "cell_type": "code",
   "outputs": [
    {
     "data": {
      "text/plain": "{'orbiter': 7,\n 'discovery': 7,\n 'ov-103': 1,\n 'considered': 1,\n 'eligible': 1,\n 'listing': 1,\n 'national': 1,\n 'register': 1,\n 'historic': 1,\n 'places': 1,\n 'nrhp': 1,\n 'context': 1,\n 'u.s.': 2,\n 'space': 13,\n 'shuttle': 8,\n 'program': 3,\n '1969': 1,\n '2011': 1,\n 'criterion': 4,\n 'areas': 1,\n 'exploration': 1,\n 'transportation': 1,\n 'c': 2,\n 'area': 1,\n 'engineering': 3,\n 'achieved': 1,\n 'significance': 1,\n 'past': 1,\n 'years': 1,\n 'criteria': 1,\n 'consideration': 1,\n 'g': 1,\n 'applies': 1,\n 'significant': 2,\n 'oldest': 1,\n 'extant': 1,\n 'vehicles': 2,\n 'constructed': 1,\n 'ssp': 2,\n 'longest': 1,\n 'running': 1,\n 'american': 1,\n 'date': 1,\n 'orbiters': 2,\n 'built': 1,\n 'nasa': 1,\n 'unlike': 1,\n 'mercury': 1,\n 'gemini': 1,\n 'apollo': 1,\n 'programs': 1,\n 'emphasis': 1,\n 'cost': 1,\n 'effectiveness': 1,\n 'reusability': 1,\n 'eventually': 1,\n 'construction': 2,\n 'station': 3,\n 'including': 1,\n 'maiden': 1,\n 'voyage': 1,\n 'launched': 1,\n 'august': 1,\n '30': 1,\n '1984': 1,\n 'flew': 3,\n 'thirty': 2,\n 'times': 2,\n 'fly': 3,\n 'missions': 4,\n 'honor': 1,\n 'chosen': 1,\n 'return': 1,\n 'flight': 2,\n 'vehicle': 1,\n 'challenger': 2,\n 'columbia': 1,\n 'accidents': 1,\n 'redesigned': 1,\n 'srbs': 1,\n 'result': 1,\n 'accident': 1,\n 'phase': 1,\n 'ii': 1,\n 'block': 1,\n 'ssme': 1,\n 'carried': 1,\n 'hubble': 1,\n 'telescope': 1,\n 'orbit': 1,\n 'performed': 1,\n 'servicing': 1,\n 'observatory': 1,\n 'dedicated': 1,\n 'department': 1,\n 'defense': 2,\n 'dod': 1,\n 'unclassified': 1,\n 'related': 1,\n 'mission': 1,\n 'addition': 1,\n 'vital': 1,\n 'international': 1,\n 'iss': 2,\n 'thirteen': 1,\n 'seven': 1,\n 'total': 1,\n 'flown': 2,\n 'dock': 1,\n 'perform': 1,\n 'exchange': 1,\n 'resident': 1,\n 'crew': 1,\n 'feat': 1,\n 'according': 1,\n 'wayne': 1,\n 'hale': 2,\n 'director': 1,\n 'johnson': 1,\n 'center': 1,\n 'represents': 1,\n 'huge': 1,\n 'technological': 1,\n 'leap': 1,\n 'expendable': 1,\n 'rockets': 1,\n 'capsules': 1,\n 'reusable': 3,\n 'winged': 2,\n 'hypersonic': 2,\n 'cargo': 2,\n 'carrying': 2,\n 'spacecraft': 1,\n 'base': 2,\n 'structure': 1,\n 'followed': 1,\n 'conventional': 1,\n 'aircraft': 2,\n 'design': 1,\n 'advanced': 1,\n 'materials': 2,\n 'minimized': 1,\n 'weight': 1,\n 'purposes': 1,\n 'featured': 2,\n 'low': 1,\n 'thermal': 2,\n 'expansion': 1,\n 'ratios': 1,\n 'provided': 1,\n 'stable': 1,\n 'protection': 1,\n 'system': 3,\n 'tps': 2,\n 'previous': 1,\n 'spaceflight': 1,\n 'single': 1,\n 'use': 1,\n 'ablative': 1,\n 'heat': 1,\n 'shield': 1,\n 'notable': 1,\n 'achievements': 1,\n 'included': 1,\n 'orbital': 1,\n 'propulsion': 1,\n 'fault': 1,\n 'tolerant': 1,\n 'integrated': 1,\n 'avionics': 1,\n 'stated': 1,\n 'remains': 1,\n 'largest': 1,\n 'fastest': 1,\n 'history': 1,\n 'having': 1,\n 'regularly': 1,\n 'speed': 1,\n 'sound': 1}"
     },
     "execution_count": 42,
     "metadata": {},
     "output_type": "execute_result"
    }
   ],
   "source": [
    "word_freq = {}\n",
    "for word in doc:\n",
    "    if all([\n",
    "        word.text.lower() not in STOP_WORDS,\n",
    "        word.text not in punctuation,\n",
    "        word.text not in whitespace\n",
    "    ]):\n",
    "        if word.text.lower() not in word_freq.keys():\n",
    "            word_freq[word.text.lower()] = 1\n",
    "        else:\n",
    "            word_freq[word.text.lower()] += 1\n",
    "\n",
    "word_freq"
   ],
   "metadata": {
    "collapsed": false,
    "ExecuteTime": {
     "end_time": "2024-05-24T08:17:52.825872Z",
     "start_time": "2024-05-24T08:17:52.817470Z"
    }
   },
   "id": "f25aaead555e6d06",
   "execution_count": 42
  },
  {
   "cell_type": "markdown",
   "source": [],
   "metadata": {
    "collapsed": false
   },
   "id": "895132058edd4386"
  },
  {
   "cell_type": "code",
   "outputs": [
    {
     "data": {
      "text/plain": "13"
     },
     "execution_count": 43,
     "metadata": {},
     "output_type": "execute_result"
    }
   ],
   "source": [
    "max_freq = max(word_freq.values())\n",
    "max_freq"
   ],
   "metadata": {
    "collapsed": false,
    "ExecuteTime": {
     "end_time": "2024-05-24T08:17:59.385629Z",
     "start_time": "2024-05-24T08:17:59.381656Z"
    }
   },
   "id": "d8a7dc209fdef273",
   "execution_count": 43
  },
  {
   "cell_type": "markdown",
   "source": [],
   "metadata": {
    "collapsed": false
   },
   "id": "905a6c1315f8e06f"
  },
  {
   "cell_type": "code",
   "outputs": [
    {
     "data": {
      "text/plain": "{'orbiter': 0.5384615384615384,\n 'discovery': 0.5384615384615384,\n 'ov-103': 0.07692307692307693,\n 'considered': 0.07692307692307693,\n 'eligible': 0.07692307692307693,\n 'listing': 0.07692307692307693,\n 'national': 0.07692307692307693,\n 'register': 0.07692307692307693,\n 'historic': 0.07692307692307693,\n 'places': 0.07692307692307693,\n 'nrhp': 0.07692307692307693,\n 'context': 0.07692307692307693,\n 'u.s.': 0.15384615384615385,\n 'space': 1.0,\n 'shuttle': 0.6153846153846154,\n 'program': 0.23076923076923078,\n '1969': 0.07692307692307693,\n '2011': 0.07692307692307693,\n 'criterion': 0.3076923076923077,\n 'areas': 0.07692307692307693,\n 'exploration': 0.07692307692307693,\n 'transportation': 0.07692307692307693,\n 'c': 0.15384615384615385,\n 'area': 0.07692307692307693,\n 'engineering': 0.23076923076923078,\n 'achieved': 0.07692307692307693,\n 'significance': 0.07692307692307693,\n 'past': 0.07692307692307693,\n 'years': 0.07692307692307693,\n 'criteria': 0.07692307692307693,\n 'consideration': 0.07692307692307693,\n 'g': 0.07692307692307693,\n 'applies': 0.07692307692307693,\n 'significant': 0.15384615384615385,\n 'oldest': 0.07692307692307693,\n 'extant': 0.07692307692307693,\n 'vehicles': 0.15384615384615385,\n 'constructed': 0.07692307692307693,\n 'ssp': 0.15384615384615385,\n 'longest': 0.07692307692307693,\n 'running': 0.07692307692307693,\n 'american': 0.07692307692307693,\n 'date': 0.07692307692307693,\n 'orbiters': 0.15384615384615385,\n 'built': 0.07692307692307693,\n 'nasa': 0.07692307692307693,\n 'unlike': 0.07692307692307693,\n 'mercury': 0.07692307692307693,\n 'gemini': 0.07692307692307693,\n 'apollo': 0.07692307692307693,\n 'programs': 0.07692307692307693,\n 'emphasis': 0.07692307692307693,\n 'cost': 0.07692307692307693,\n 'effectiveness': 0.07692307692307693,\n 'reusability': 0.07692307692307693,\n 'eventually': 0.07692307692307693,\n 'construction': 0.15384615384615385,\n 'station': 0.23076923076923078,\n 'including': 0.07692307692307693,\n 'maiden': 0.07692307692307693,\n 'voyage': 0.07692307692307693,\n 'launched': 0.07692307692307693,\n 'august': 0.07692307692307693,\n '30': 0.07692307692307693,\n '1984': 0.07692307692307693,\n 'flew': 0.23076923076923078,\n 'thirty': 0.15384615384615385,\n 'times': 0.15384615384615385,\n 'fly': 0.23076923076923078,\n 'missions': 0.3076923076923077,\n 'honor': 0.07692307692307693,\n 'chosen': 0.07692307692307693,\n 'return': 0.07692307692307693,\n 'flight': 0.15384615384615385,\n 'vehicle': 0.07692307692307693,\n 'challenger': 0.15384615384615385,\n 'columbia': 0.07692307692307693,\n 'accidents': 0.07692307692307693,\n 'redesigned': 0.07692307692307693,\n 'srbs': 0.07692307692307693,\n 'result': 0.07692307692307693,\n 'accident': 0.07692307692307693,\n 'phase': 0.07692307692307693,\n 'ii': 0.07692307692307693,\n 'block': 0.07692307692307693,\n 'ssme': 0.07692307692307693,\n 'carried': 0.07692307692307693,\n 'hubble': 0.07692307692307693,\n 'telescope': 0.07692307692307693,\n 'orbit': 0.07692307692307693,\n 'performed': 0.07692307692307693,\n 'servicing': 0.07692307692307693,\n 'observatory': 0.07692307692307693,\n 'dedicated': 0.07692307692307693,\n 'department': 0.07692307692307693,\n 'defense': 0.15384615384615385,\n 'dod': 0.07692307692307693,\n 'unclassified': 0.07692307692307693,\n 'related': 0.07692307692307693,\n 'mission': 0.07692307692307693,\n 'addition': 0.07692307692307693,\n 'vital': 0.07692307692307693,\n 'international': 0.07692307692307693,\n 'iss': 0.15384615384615385,\n 'thirteen': 0.07692307692307693,\n 'seven': 0.07692307692307693,\n 'total': 0.07692307692307693,\n 'flown': 0.15384615384615385,\n 'dock': 0.07692307692307693,\n 'perform': 0.07692307692307693,\n 'exchange': 0.07692307692307693,\n 'resident': 0.07692307692307693,\n 'crew': 0.07692307692307693,\n 'feat': 0.07692307692307693,\n 'according': 0.07692307692307693,\n 'wayne': 0.07692307692307693,\n 'hale': 0.15384615384615385,\n 'director': 0.07692307692307693,\n 'johnson': 0.07692307692307693,\n 'center': 0.07692307692307693,\n 'represents': 0.07692307692307693,\n 'huge': 0.07692307692307693,\n 'technological': 0.07692307692307693,\n 'leap': 0.07692307692307693,\n 'expendable': 0.07692307692307693,\n 'rockets': 0.07692307692307693,\n 'capsules': 0.07692307692307693,\n 'reusable': 0.23076923076923078,\n 'winged': 0.15384615384615385,\n 'hypersonic': 0.15384615384615385,\n 'cargo': 0.15384615384615385,\n 'carrying': 0.15384615384615385,\n 'spacecraft': 0.07692307692307693,\n 'base': 0.15384615384615385,\n 'structure': 0.07692307692307693,\n 'followed': 0.07692307692307693,\n 'conventional': 0.07692307692307693,\n 'aircraft': 0.15384615384615385,\n 'design': 0.07692307692307693,\n 'advanced': 0.07692307692307693,\n 'materials': 0.15384615384615385,\n 'minimized': 0.07692307692307693,\n 'weight': 0.07692307692307693,\n 'purposes': 0.07692307692307693,\n 'featured': 0.15384615384615385,\n 'low': 0.07692307692307693,\n 'thermal': 0.15384615384615385,\n 'expansion': 0.07692307692307693,\n 'ratios': 0.07692307692307693,\n 'provided': 0.07692307692307693,\n 'stable': 0.07692307692307693,\n 'protection': 0.07692307692307693,\n 'system': 0.23076923076923078,\n 'tps': 0.15384615384615385,\n 'previous': 0.07692307692307693,\n 'spaceflight': 0.07692307692307693,\n 'single': 0.07692307692307693,\n 'use': 0.07692307692307693,\n 'ablative': 0.07692307692307693,\n 'heat': 0.07692307692307693,\n 'shield': 0.07692307692307693,\n 'notable': 0.07692307692307693,\n 'achievements': 0.07692307692307693,\n 'included': 0.07692307692307693,\n 'orbital': 0.07692307692307693,\n 'propulsion': 0.07692307692307693,\n 'fault': 0.07692307692307693,\n 'tolerant': 0.07692307692307693,\n 'integrated': 0.07692307692307693,\n 'avionics': 0.07692307692307693,\n 'stated': 0.07692307692307693,\n 'remains': 0.07692307692307693,\n 'largest': 0.07692307692307693,\n 'fastest': 0.07692307692307693,\n 'history': 0.07692307692307693,\n 'having': 0.07692307692307693,\n 'regularly': 0.07692307692307693,\n 'speed': 0.07692307692307693,\n 'sound': 0.07692307692307693}"
     },
     "execution_count": 44,
     "metadata": {},
     "output_type": "execute_result"
    }
   ],
   "source": [
    "for word in word_freq.keys():\n",
    "    word_freq[word] = word_freq[word] / max_freq\n",
    "word_freq"
   ],
   "metadata": {
    "collapsed": false,
    "ExecuteTime": {
     "end_time": "2024-05-24T08:18:02.235439Z",
     "start_time": "2024-05-24T08:18:02.227841Z"
    }
   },
   "id": "d76215600b72ca73",
   "execution_count": 44
  },
  {
   "cell_type": "markdown",
   "source": [
    "## Розбиття тексту на речення та визначення їх важливості на основі найчастіше використовуваних слів"
   ],
   "metadata": {
    "collapsed": false
   },
   "id": "44c2f9b38058c301"
  },
  {
   "cell_type": "code",
   "outputs": [
    {
     "name": "stdout",
     "output_type": "stream",
     "text": [
      "Кількість речень в тексті: 17\n"
     ]
    }
   ],
   "source": [
    "sentence_tokens = [sent for sent in doc.sents]\n",
    "print(f\"Кількість речень в тексті: {len(sentence_tokens)}\")"
   ],
   "metadata": {
    "collapsed": false,
    "ExecuteTime": {
     "end_time": "2024-05-24T08:35:32.331804Z",
     "start_time": "2024-05-24T08:35:32.328364Z"
    }
   },
   "id": "544ac00e75376cd3",
   "execution_count": 58
  },
  {
   "cell_type": "code",
   "outputs": [
    {
     "name": "stdout",
     "output_type": "stream",
     "text": [
      "Sentence:\n",
      "\tThe Orbiter Discovery, OV-103, is considered eligible for listing in the National Register of Historic Places (NRHP) in the context of the U.S. Space Shuttle Program (1969-2011) under Criterion A in the areas of Space Exploration and Transportation and under Criterion C in the area of Engineering.\n",
      "Score:\n",
      "\t 6.307692307692307\n",
      "\n",
      "Sentence:\n",
      "\tBecause it has achieved significance within the past fifty years, Criteria Consideration G applies.\n",
      "Score:\n",
      "\t 0.6153846153846154\n",
      "\n",
      "Sentence:\n",
      "\tUnder Criterion A, Discovery is significant as the oldest of the three extant orbiter vehicles constructed for the Space Shuttle Program (SSP), the longest running American space program to date; she was the third of five orbiters built by NASA.\n",
      "Score:\n",
      "\t 5.769230769230768\n",
      "\n",
      "Sentence:\n",
      "\tUnlike the Mercury, Gemini, and Apollo programs, the SSP’s emphasis was on cost effectiveness and reusability, and eventually the construction of a space station.\n",
      "Score:\n",
      "\t 2.3076923076923075\n",
      "\n",
      "Sentence:\n",
      "\tIncluding her maiden voyage (launched August 30, 1984), Discovery flew to space thirty-nine times, more than any of the other four orbiters; she was also the first orbiter to fly twenty missions.\n",
      "Score:\n",
      "\t 3.846153846153846\n",
      "\n",
      "Sentence:\n",
      "\tShe had the honor of being chosen as the Return to Flight vehicle after both the Challenger and Columbia accidents.\n",
      "Score:\n",
      "\t 0.7692307692307692\n",
      "\n",
      "Sentence:\n",
      "\tDiscovery was the first shuttle to fly with the redesigned SRBs, a result of the Challenger accident, and the first shuttle to fly with the Phase II and Block I SSME.\n",
      "Score:\n",
      "\t 3.000000000000001\n",
      "\n",
      "Sentence:\n",
      "\tDiscovery also carried the Hubble Space Telescope to orbit and performed two of the five servicing missions to the observatory.\n",
      "Score:\n",
      "\t 2.3846153846153846\n",
      "\n",
      "Sentence:\n",
      "\tShe flew the first and last dedicated Department of Defense (DoD) missions, as well as the first unclassified defense-related mission.\n",
      "Score:\n",
      "\t 1.3076923076923075\n",
      "\n",
      "Sentence:\n",
      "\tIn addition, Discovery was vital to the construction of the International Space Station (ISS); she flew thirteen of the thirty-seven total missions flown to the station by a U.S. Space Shuttle.\n",
      "Score:\n",
      "\t 5.384615384615385\n",
      "\n",
      "Sentence:\n",
      "\tShe was the first orbiter to dock to the ISS, and the first to perform an exchange of a resident crew.\n",
      "Score:\n",
      "\t 1.0769230769230769\n",
      "\n",
      "Sentence:\n",
      "\tUnder Criterion C, Discovery is significant as a feat of engineering.\n",
      "Score:\n",
      "\t 1.4615384615384615\n",
      "\n",
      "Sentence:\n",
      "\tAccording to Wayne Hale, a flight director from Johnson Space Center, the Space Shuttle orbiter represents a “huge technological leap from expendable rockets and capsules to a reusable, winged, hypersonic, cargo-carrying spacecraft.”\n",
      "Score:\n",
      "\t 5.3076923076923075\n",
      "\n",
      "Sentence:\n",
      "\tAlthough her base structure followed a conventional aircraft design, she used advanced materials that both minimized her weight for cargo-carrying purposes and featured low thermal expansion ratios, which provided a stable base for her Thermal Protection System (TPS) materials.\n",
      "Score:\n",
      "\t 2.9999999999999996\n",
      "\n",
      "Sentence:\n",
      "\tThe Space Shuttle orbiter also featured the first reusable TPS; all previous spaceflight vehicles had a single-use, ablative heat shield.\n",
      "Score:\n",
      "\t 3.3846153846153855\n",
      "\n",
      "Sentence:\n",
      "\tOther notable engineering achievements of the orbiter included the first reusable orbital propulsion system, and the first two-fault-tolerant Integrated Avionics System.\n",
      "Score:\n",
      "\t 2.1538461538461537\n",
      "\n",
      "Sentence:\n",
      "\tAs Hale stated, the Space Shuttle remains “the largest, fastest, winged hypersonic aircraft in history,” having regularly flown at twenty-five times the speed of sound.\n",
      "\n",
      "Score:\n",
      "\t 3.2307692307692313\n"
     ]
    }
   ],
   "source": [
    "sentence_scores = {}\n",
    "for sent in sentence_tokens:\n",
    "    for word in sent:\n",
    "        if word.text.lower() in word_freq.keys():\n",
    "            if sent not in sentence_scores.keys():\n",
    "                sentence_scores[sent] = word_freq[word.text.lower()]\n",
    "            else:\n",
    "                sentence_scores[sent] += word_freq[word.text.lower()]\n",
    "\n",
    "for sentence in sentence_scores:\n",
    "    print(f\"Sentence:\\n\\t{sentence.text}\\nScore:\\n\\t {sentence_scores[sentence]}\\n\")"
   ],
   "metadata": {
    "collapsed": false,
    "ExecuteTime": {
     "end_time": "2024-05-24T08:18:17.171908Z",
     "start_time": "2024-05-24T08:18:17.166153Z"
    }
   },
   "id": "1431f8b748e42cb",
   "execution_count": 46
  },
  {
   "cell_type": "markdown",
   "source": [
    "## Визначення кількості речень в summary"
   ],
   "metadata": {
    "collapsed": false
   },
   "id": "56c19895b89a7330"
  },
  {
   "cell_type": "code",
   "outputs": [
    {
     "data": {
      "text/plain": "5"
     },
     "execution_count": 63,
     "metadata": {},
     "output_type": "execute_result"
    }
   ],
   "source": [
    "select_length = int(len(sentence_tokens) * 0.3)\n",
    "select_length"
   ],
   "metadata": {
    "collapsed": false,
    "ExecuteTime": {
     "end_time": "2024-05-24T08:51:54.052985Z",
     "start_time": "2024-05-24T08:51:54.048847Z"
    }
   },
   "id": "1e1a16eda9388807",
   "execution_count": 63
  },
  {
   "cell_type": "markdown",
   "source": [
    "## Створення summary"
   ],
   "metadata": {
    "collapsed": false
   },
   "id": "28a07efa02795499"
  },
  {
   "cell_type": "code",
   "outputs": [
    {
     "name": "stdout",
     "output_type": "stream",
     "text": [
      "The Orbiter Discovery, OV-103, is considered eligible for listing in the National Register of Historic Places (NRHP) in the context of the U.S. Space Shuttle Program (1969-2011) under Criterion A in the areas of Space Exploration and Transportation and under Criterion C in the area of Engineering.\n",
      "Under Criterion A, Discovery is significant as the oldest of the three extant orbiter vehicles constructed for the Space Shuttle Program (SSP), the longest running American space program to date; she was the third of five orbiters built by NASA.\n",
      "In addition, Discovery was vital to the construction of the International Space Station (ISS); she flew thirteen of the thirty-seven total missions flown to the station by a U.S. Space Shuttle.\n",
      "According to Wayne Hale, a flight director from Johnson Space Center, the Space Shuttle orbiter represents a “huge technological leap from expendable rockets and capsules to a reusable, winged, hypersonic, cargo-carrying spacecraft.”\n",
      "Including her maiden voyage (launched August 30, 1984), Discovery flew to space thirty-nine times, more than any of the other four orbiters; she was also the first orbiter to fly twenty missions.\n"
     ]
    }
   ],
   "source": [
    "from heapq import nlargest\n",
    "summary = nlargest(select_length, sentence_scores, key=sentence_scores.get)\n",
    "summary = [word.text for word in summary]\n",
    "summary = '\\n'.join(summary)\n",
    "print(summary)"
   ],
   "metadata": {
    "collapsed": false,
    "ExecuteTime": {
     "end_time": "2024-05-24T08:49:50.366849Z",
     "start_time": "2024-05-24T08:49:50.362699Z"
    }
   },
   "id": "7c4b117e98149a1e",
   "execution_count": 61
  },
  {
   "cell_type": "code",
   "outputs": [
    {
     "name": "stdout",
     "output_type": "stream",
     "text": [
      "Original Text Length: 2907\n",
      "Summarized Text Length: 1168\n"
     ]
    }
   ],
   "source": [
    "print(f\"Original Text Length: {len(text)}\\nSummarized Text Length: { len(summary)}\")\n"
   ],
   "metadata": {
    "collapsed": false,
    "ExecuteTime": {
     "end_time": "2024-05-24T08:19:03.028547Z",
     "start_time": "2024-05-24T08:19:03.025452Z"
    }
   },
   "id": "6ff7f8669465ce5f",
   "execution_count": 50
  },
  {
   "cell_type": "code",
   "outputs": [],
   "source": [
    "with open(\"summary.txt\", \"w\", encoding=\"utf-8\") as f:\n",
    "    f.write(summary)"
   ],
   "metadata": {
    "collapsed": false,
    "ExecuteTime": {
     "end_time": "2024-05-24T08:49:56.227557Z",
     "start_time": "2024-05-24T08:49:56.219362Z"
    }
   },
   "id": "32f593f00086ae6b",
   "execution_count": 62
  }
 ],
 "metadata": {
  "kernelspec": {
   "display_name": "Python 3",
   "language": "python",
   "name": "python3"
  },
  "language_info": {
   "codemirror_mode": {
    "name": "ipython",
    "version": 2
   },
   "file_extension": ".py",
   "mimetype": "text/x-python",
   "name": "python",
   "nbconvert_exporter": "python",
   "pygments_lexer": "ipython2",
   "version": "2.7.6"
  }
 },
 "nbformat": 4,
 "nbformat_minor": 5
}
