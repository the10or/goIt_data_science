{
 "cells": [
  {
   "cell_type": "markdown",
   "source": [
    " # Домашнє завдання №3"
   ],
   "metadata": {
    "collapsed": false
   },
   "id": "8efdd59fa4d25c75"
  },
  {
   "cell_type": "code",
   "outputs": [],
   "source": [
    "import numpy as np\n",
    "import pandas as pd\n",
    "\n",
    "pd.options.mode.chained_assignment = None"
   ],
   "metadata": {
    "collapsed": false,
    "ExecuteTime": {
     "end_time": "2024-04-26T07:26:45.640461Z",
     "start_time": "2024-04-26T07:26:45.637109Z"
    }
   },
   "id": "8a865da8a185320f",
   "execution_count": 1
  },
  {
   "cell_type": "markdown",
   "source": [
    "## Читаємо датасет"
   ],
   "metadata": {
    "collapsed": false
   },
   "id": "53450a1b25dd7f9b"
  },
  {
   "cell_type": "code",
   "outputs": [
    {
     "data": {
      "text/plain": "      price  area  bedrooms  bathrooms  stories mainroad guestroom basement  \\\n0  13300000  7420         4          2        3      yes        no       no   \n1  12250000  8960         4          4        4      yes        no       no   \n2  12250000  9960         3          2        2      yes        no      yes   \n3  12215000  7500         4          2        2      yes        no      yes   \n4  11410000  7420         4          1        2      yes       yes      yes   \n\n  hotwaterheating airconditioning  parking prefarea furnishingstatus  \n0              no             yes        2      yes        furnished  \n1              no             yes        3       no        furnished  \n2              no              no        2      yes   semi-furnished  \n3              no             yes        3      yes        furnished  \n4              no             yes        2       no        furnished  ",
      "text/html": "<div>\n<style scoped>\n    .dataframe tbody tr th:only-of-type {\n        vertical-align: middle;\n    }\n\n    .dataframe tbody tr th {\n        vertical-align: top;\n    }\n\n    .dataframe thead th {\n        text-align: right;\n    }\n</style>\n<table border=\"1\" class=\"dataframe\">\n  <thead>\n    <tr style=\"text-align: right;\">\n      <th></th>\n      <th>price</th>\n      <th>area</th>\n      <th>bedrooms</th>\n      <th>bathrooms</th>\n      <th>stories</th>\n      <th>mainroad</th>\n      <th>guestroom</th>\n      <th>basement</th>\n      <th>hotwaterheating</th>\n      <th>airconditioning</th>\n      <th>parking</th>\n      <th>prefarea</th>\n      <th>furnishingstatus</th>\n    </tr>\n  </thead>\n  <tbody>\n    <tr>\n      <th>0</th>\n      <td>13300000</td>\n      <td>7420</td>\n      <td>4</td>\n      <td>2</td>\n      <td>3</td>\n      <td>yes</td>\n      <td>no</td>\n      <td>no</td>\n      <td>no</td>\n      <td>yes</td>\n      <td>2</td>\n      <td>yes</td>\n      <td>furnished</td>\n    </tr>\n    <tr>\n      <th>1</th>\n      <td>12250000</td>\n      <td>8960</td>\n      <td>4</td>\n      <td>4</td>\n      <td>4</td>\n      <td>yes</td>\n      <td>no</td>\n      <td>no</td>\n      <td>no</td>\n      <td>yes</td>\n      <td>3</td>\n      <td>no</td>\n      <td>furnished</td>\n    </tr>\n    <tr>\n      <th>2</th>\n      <td>12250000</td>\n      <td>9960</td>\n      <td>3</td>\n      <td>2</td>\n      <td>2</td>\n      <td>yes</td>\n      <td>no</td>\n      <td>yes</td>\n      <td>no</td>\n      <td>no</td>\n      <td>2</td>\n      <td>yes</td>\n      <td>semi-furnished</td>\n    </tr>\n    <tr>\n      <th>3</th>\n      <td>12215000</td>\n      <td>7500</td>\n      <td>4</td>\n      <td>2</td>\n      <td>2</td>\n      <td>yes</td>\n      <td>no</td>\n      <td>yes</td>\n      <td>no</td>\n      <td>yes</td>\n      <td>3</td>\n      <td>yes</td>\n      <td>furnished</td>\n    </tr>\n    <tr>\n      <th>4</th>\n      <td>11410000</td>\n      <td>7420</td>\n      <td>4</td>\n      <td>1</td>\n      <td>2</td>\n      <td>yes</td>\n      <td>yes</td>\n      <td>yes</td>\n      <td>no</td>\n      <td>yes</td>\n      <td>2</td>\n      <td>no</td>\n      <td>furnished</td>\n    </tr>\n  </tbody>\n</table>\n</div>"
     },
     "execution_count": 59,
     "metadata": {},
     "output_type": "execute_result"
    }
   ],
   "source": [
    "df = pd.read_csv(\"Housing.csv\")\n",
    "df.head(5)"
   ],
   "metadata": {
    "collapsed": false,
    "ExecuteTime": {
     "end_time": "2024-04-26T08:16:09.474550Z",
     "start_time": "2024-04-26T08:16:09.460577Z"
    }
   },
   "id": "5bd00d761a1e987c",
   "execution_count": 59
  },
  {
   "cell_type": "code",
   "outputs": [
    {
     "data": {
      "text/plain": "count         545.00\nmean      4766729.25\nstd       1870439.62\nmin       1750000.00\n25%       3430000.00\n50%       4340000.00\n75%       5740000.00\nmax      13300000.00\nName: price, dtype: float64"
     },
     "execution_count": 124,
     "metadata": {},
     "output_type": "execute_result"
    }
   ],
   "source": [
    "df[\"price\"].describe().round(2)"
   ],
   "metadata": {
    "collapsed": false,
    "ExecuteTime": {
     "end_time": "2024-04-26T09:10:46.029628Z",
     "start_time": "2024-04-26T09:10:46.022656Z"
    }
   },
   "id": "7dabf6899c78f668",
   "execution_count": 124
  },
  {
   "cell_type": "code",
   "outputs": [
    {
     "data": {
      "text/plain": "<Figure size 1000x500 with 1 Axes>",
      "image/png": "[encoded data removed]"
     },
     "metadata": {},
     "output_type": "display_data"
    }
   ],
   "source": [
    "hist = df[\"price\"].hist(bins=100, figsize=(10, 5), xlabelsize=8, ylabelsize=8)"
   ],
   "metadata": {
    "collapsed": false,
    "ExecuteTime": {
     "end_time": "2024-04-26T09:19:10.726866Z",
     "start_time": "2024-04-26T09:19:10.477701Z"
    }
   },
   "id": "e609d98c58b96e7b",
   "execution_count": 133
  },
  {
   "cell_type": "markdown",
   "source": [
    "## Формуємо вектори ознак X та вектор результатів y"
   ],
   "metadata": {
    "collapsed": false
   },
   "id": "fbbfb1db5a8f1030"
  },
  {
   "cell_type": "code",
   "outputs": [],
   "source": [
    "from sklearn.model_selection import train_test_split\n",
    "\n",
    "X = df[[\"area\", \"bedrooms\", \"bathrooms\"]]\n",
    "y = df[\"price\"]\n",
    "\n",
    "X_train, X_test, y_train, y_test = train_test_split(X, y, test_size=0.2, random_state=42)\n",
    "\n",
    "X_train = X_train.to_numpy()\n",
    "X_test = X_test.to_numpy()\n",
    "y_train = y_train.to_numpy()\n",
    "y_test = y_test.to_numpy()\n"
   ],
   "metadata": {
    "collapsed": false,
    "ExecuteTime": {
     "end_time": "2024-04-26T08:16:13.509126Z",
     "start_time": "2024-04-26T08:16:13.503167Z"
    }
   },
   "id": "ab035c4d0370b7ae",
   "execution_count": 60
  },
  {
   "cell_type": "markdown",
   "source": [
    "## Нормалізуємо X_train та X_test за допомогою MinMaxScaler"
   ],
   "metadata": {
    "collapsed": false
   },
   "id": "c652e6803570f957"
  },
  {
   "cell_type": "code",
   "outputs": [],
   "source": [
    "from sklearn.preprocessing import MinMaxScaler\n",
    "\n",
    "scaler = MinMaxScaler()\n",
    "X_train = scaler.fit_transform(X_train)\n",
    "X_test = scaler.transform(X_test)"
   ],
   "metadata": {
    "collapsed": false,
    "ExecuteTime": {
     "end_time": "2024-04-26T08:16:16.707210Z",
     "start_time": "2024-04-26T08:16:16.703264Z"
    }
   },
   "id": "41caf56495e9123d",
   "execution_count": 61
  },
  {
   "cell_type": "markdown",
   "source": [
    "## Напишіть функцію гіпотези лінійної регресії у векторному вигляді\n"
   ],
   "metadata": {
    "collapsed": false
   },
   "id": "9d2a1bbfe5999f34"
  },
  {
   "cell_type": "code",
   "outputs": [],
   "source": [
    "def hypothesis(X, w):\n",
    "    return np.dot(X, w)"
   ],
   "metadata": {
    "collapsed": false,
    "ExecuteTime": {
     "end_time": "2024-04-26T08:16:19.023755Z",
     "start_time": "2024-04-26T08:16:19.019620Z"
    }
   },
   "id": "2dc2281984b7b87f",
   "execution_count": 62
  },
  {
   "cell_type": "markdown",
   "source": [
    "# Створіть функцію для обчислення функції втрат у векторному вигляді"
   ],
   "metadata": {
    "collapsed": false
   },
   "id": "517e59b3ebe7f21b"
  },
  {
   "cell_type": "code",
   "outputs": [],
   "source": [
    "def loss(X, w, y):\n",
    "    X = np.hstack((np.ones((X.shape[0], 1)), X)) if X.shape[1] < len(w) else X\n",
    "    hyp = hypothesis(X, w)\n",
    "    return np.mean((hyp - y) ** 2)"
   ],
   "metadata": {
    "collapsed": false,
    "ExecuteTime": {
     "end_time": "2024-04-26T08:47:20.392430Z",
     "start_time": "2024-04-26T08:47:20.388202Z"
    }
   },
   "id": "e7b39d70899d05c4",
   "execution_count": 85
  },
  {
   "cell_type": "markdown",
   "source": [
    "## Реалізуйте один крок градієнтного спуску"
   ],
   "metadata": {
    "collapsed": false
   },
   "id": "2c972519c3eda72a"
  },
  {
   "cell_type": "code",
   "outputs": [],
   "source": [
    "def gradient_descent_step(X, w, y, learning_rate):\n",
    "    grad = np.dot(X.T, (hypothesis(X, w) - y)) / y.shape[0]\n",
    "    w = w - learning_rate * grad\n",
    "    return w\n",
    "    "
   ],
   "metadata": {
    "collapsed": false,
    "ExecuteTime": {
     "end_time": "2024-04-26T08:49:25.195052Z",
     "start_time": "2024-04-26T08:49:25.191257Z"
    }
   },
   "id": "8f99f0e27a8bcc",
   "execution_count": 89
  },
  {
   "cell_type": "markdown",
   "source": [
    "## Знайдіть найкращі параметри W для датасету прогнозуючу ціну на будинок залежно від площі, кількості ванних кімнат та кількості спалень"
   ],
   "metadata": {
    "collapsed": false
   },
   "id": "cd9242e9b71669d6"
  },
  {
   "cell_type": "code",
   "outputs": [],
   "source": [
    "def gradient_descent(X, y, learning_rate, num_iterations):\n",
    "    X = np.hstack((np.ones((X.shape[0], 1)), X))\n",
    "    w = np.random.rand(X.shape[1])\n",
    "    w_dict = dict()\n",
    "    for i in range(num_iterations):\n",
    "        w = gradient_descent_step(X, w, y, learning_rate)\n",
    "        loss_i = loss(X, w, y)\n",
    "        w_dict[loss_i] = w\n",
    "        if i % 100 == 0:\n",
    "            print(f\" step: {i} loss: {np.sqrt(loss_i).round(2)} bias: {w[0].round(2)} w: {w[1:].round(2)}\")\n",
    "    return w_dict[min(w_dict.keys())]\n",
    "\n"
   ],
   "metadata": {
    "collapsed": false,
    "ExecuteTime": {
     "end_time": "2024-04-26T09:41:01.068231Z",
     "start_time": "2024-04-26T09:41:01.063946Z"
    }
   },
   "id": "94a958eb1afed1eb",
   "execution_count": 162
  },
  {
   "cell_type": "code",
   "outputs": [
    {
     "name": "stdout",
     "output_type": "stream",
     "text": [
      " step: 0 loss: 4472410.83 bias: 470653.59 w: [127534.67 194118.25  56602.55]\n",
      " step: 100 loss: 1445099.09 bias: 3449791.57 w: [1854812.37 1849455.53 1373135.82]\n",
      " step: 200 loss: 1364153.33 bias: 3139862.41 w: [2540808.69 2028000.27 2102401.77]\n",
      " step: 300 loss: 1316752.28 bias: 2916638.73 w: [3073761.83 2130017.42 2638611.07]\n",
      " step: 400 loss: 1289211.44 bias: 2756454.0 w: [3488994.24 2180517.35 3033920.12]\n",
      " step: 500 loss: 1273198.54 bias: 2642040.0 w: [3813398.98 2197062.11 3326299.09]\n",
      " step: 600 loss: 1263823.77 bias: 2560805.64 w: [4067513.36 2191893.58 3543395.46]\n",
      " step: 700 loss: 1258273.45 bias: 2503574.81 w: [4267068.72 2173465.09 3705345.79]\n",
      " step: 800 loss: 1254940.7 bias: 2463664.51 w: [4424151.97 2147543.29 3826822.04]\n",
      " step: 900 loss: 1252907.36 bias: 2436211.69 w: [4548078.45 2117999.09 3918520.51]\n",
      " step: 1000 loss: 1251645.62 bias: 2417681.48 w: [4646049.53 2087374.01 3988245.12]\n",
      " step: 1100 loss: 1250849.08 bias: 2405508.07 w: [4723649.19 2057284.59 4041695.31]\n",
      " step: 1200 loss: 1250337.64 bias: 2397832.33 w: [4785220.22 2028709.95 4083039.14]\n",
      " step: 1300 loss: 1250003.89 bias: 2393310.31 w: [4834149.94 2002195.61 4115329.97]\n",
      " step: 1400 loss: 1249782.77 bias: 2390973.2 w: [4873087.87 1977996.96 4140809.46]\n",
      " step: 1500 loss: 1249634.2 bias: 2390125.26 w: [4904112.05 1956179.84 4161127.84]\n",
      " step: 1600 loss: 1249533.11 bias: 2390269.18 w: [4928856.56 1936690.28 4177504.06]\n",
      " step: 1700 loss: 1249463.53 bias: 2391051.65 w: [4948609.51 1919402.49 4190842.21]\n",
      " step: 1800 loss: 1249415.15 bias: 2392223.66 w: [4964388.64 1904151.37 4201816.18]\n",
      " step: 1900 loss: 1249381.18 bias: 2393611.53 w: [4976999.84 1890754.21 4210931.21]\n",
      " step: 2000 loss: 1249357.15 bias: 2395095.83 w: [4987082.49 1879024.77 4218568.74]\n",
      " step: 2100 loss: 1249340.01 bias: 2396596.04 w: [4995144.84 1868782.14 4225018.99]\n",
      " step: 2200 loss: 1249327.71 bias: 2398059.38 w: [5001591.56 1859855.88 4230504.74]\n",
      " step: 2300 loss: 1249318.82 bias: 2399452.7 w: [5006745.35 1852088.94 4235198.66]\n",
      " step: 2400 loss: 1249312.37 bias: 2400756.66 w: [5010863.9  1845338.74 4239236.03]\n",
      " step: 2500 loss: 1249307.65 bias: 2401961.48 w: [5014153.21 1839477.34 4242723.97]\n",
      " step: 2600 loss: 1249304.2 bias: 2403063.9 w: [5016778.14 1834390.96 4245748.28]\n",
      " step: 2700 loss: 1249301.65 bias: 2404064.98 w: [5018870.75 1829979.04 4248378.47]\n",
      " step: 2800 loss: 1249299.77 bias: 2404968.59 w: [5020536.9  1826153.19 4250671.48]\n",
      " step: 2900 loss: 1249298.37 bias: 2405780.3 w: [5021861.49 1822836.04 4252674.41]\n",
      " step: 3000 loss: 1249297.33 bias: 2406506.6 w: [5022912.62 1819960.05 4254426.66]\n",
      " step: 3100 loss: 1249296.56 bias: 2407154.38 w: [5023744.99 1817466.43 4255961.41]\n",
      " step: 3200 loss: 1249295.98 bias: 2407730.61 w: [5024402.46 1815304.1  4257306.88]\n",
      " step: 3300 loss: 1249295.54 bias: 2408242.04 w: [5024920.26 1813428.72 4258487.2 ]\n",
      " step: 3400 loss: 1249295.21 bias: 2408695.12 w: [5025326.66 1811801.87 4259523.15]\n",
      " step: 3500 loss: 1249294.97 bias: 2409095.88 w: [5025644.33 1810390.28 4260432.67]\n",
      " step: 3600 loss: 1249294.78 bias: 2409449.88 w: [5025891.47 1809165.13 4261231.37]\n",
      " step: 3700 loss: 1249294.64 bias: 2409762.22 w: [5026082.63 1808101.51 4261932.81]\n",
      " step: 3800 loss: 1249294.53 bias: 2410037.54 w: [5026229.5  1807177.85 4262548.87]\n",
      " step: 3900 loss: 1249294.45 bias: 2410280.02 w: [5026341.39 1806375.49 4263089.92]\n",
      "\n",
      "bias: 2410491.409569671 \n",
      "w1: 5026425.03396187 \n",
      "w2: 1805684.793285566 \n",
      "w3: 4263560.615298646\n"
     ]
    }
   ],
   "source": [
    "W = gradient_descent(X_train, y_train, 0.1, 4000)\n",
    "print(f\"\\nbias: {W[0]} \\nw1: {W[1]} \\nw2: {W[2]} \\nw3: {W[3]}\")"
   ],
   "metadata": {
    "collapsed": false,
    "ExecuteTime": {
     "end_time": "2024-04-26T09:58:36.258305Z",
     "start_time": "2024-04-26T09:58:36.171110Z"
    }
   },
   "id": "47b1c07b61249b44",
   "execution_count": 180
  },
  {
   "cell_type": "markdown",
   "source": [],
   "metadata": {
    "collapsed": false
   },
   "id": "4585dda0f8ca3a61"
  },
  {
   "cell_type": "markdown",
   "source": [
    "## знайдіть ці ж параметри за допомогою аналітичного рішення"
   ],
   "metadata": {
    "collapsed": false
   },
   "id": "b20f8fdcf5e55161"
  },
  {
   "cell_type": "code",
   "outputs": [
    {
     "name": "stdout",
     "output_type": "stream",
     "text": [
      "[2412022.52794476 5026538.59470926 1800988.25228755 4266958.97292422]\n"
     ]
    }
   ],
   "source": [
    "def analytical_solution(X, y):\n",
    "    X = np.hstack((np.ones((X.shape[0], 1)), X))\n",
    "    w = np.dot(np.linalg.inv(np.dot(X.T, X)), np.dot(X.T, y))\n",
    "    return w\n",
    "\n",
    "\n",
    "W_analytical = analytical_solution(X_train, y_train)\n",
    "print(W_analytical)\n"
   ],
   "metadata": {
    "collapsed": false,
    "ExecuteTime": {
     "end_time": "2024-04-26T09:58:47.957287Z",
     "start_time": "2024-04-26T09:58:47.952172Z"
    }
   },
   "id": "454444809c94000d",
   "execution_count": 181
  },
  {
   "cell_type": "markdown",
   "source": [
    "## порівняйте отримані результати"
   ],
   "metadata": {
    "collapsed": false
   },
   "id": "7994ef27615b5702"
  },
  {
   "cell_type": "code",
   "outputs": [
    {
     "name": "stdout",
     "output_type": "stream",
     "text": [
      "bias \n",
      "model: 2410491.409569671 \n",
      "analytical: 2412022.5279447623\n",
      "\n",
      "w1 \n",
      "model:       5026425.03396187 \n",
      "analytical: 5026538.594709262   \n",
      "\n",
      "w2 \n",
      "model:      1805684.793285566 \n",
      "analytical: 1800988.2522875518  \n",
      "\n",
      "w3 \n",
      "model:      4263560.615298646 \n",
      "analytical: 4266958.972924221   \n"
     ]
    }
   ],
   "source": [
    "print(f\"bias \\nmodel: {W[0]} \\nanalytical: {W_analytical[0]}\")\n",
    "for i, (a, b) in enumerate(zip(W[1:], W_analytical[1:])):\n",
    "    print(f\"\\nw{i+1} \\nmodel: {a:>22} \\nanalytical: {b:<20}\")\n"
   ],
   "metadata": {
    "collapsed": false,
    "ExecuteTime": {
     "end_time": "2024-04-26T10:06:35.256021Z",
     "start_time": "2024-04-26T10:06:35.250706Z"
    }
   },
   "id": "c47cd73ae1db4b75",
   "execution_count": 199
  }
 ],
 "metadata": {
  "kernelspec": {
   "display_name": "Python 3",
   "language": "python",
   "name": "python3"
  },
  "language_info": {
   "codemirror_mode": {
    "name": "ipython",
    "version": 2
   },
   "file_extension": ".py",
   "mimetype": "text/x-python",
   "name": "python",
   "nbconvert_exporter": "python",
   "pygments_lexer": "ipython2",
   "version": "2.7.6"
  }
 },
 "nbformat": 4,
 "nbformat_minor": 5
}
