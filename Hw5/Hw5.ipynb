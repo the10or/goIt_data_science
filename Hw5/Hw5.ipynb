{
 "cells": [
  {
   "cell_type": "code",
   "execution_count": 1,
   "id": "initial_id",
   "metadata": {
    "collapsed": true,
    "ExecuteTime": {
     "end_time": "2024-05-01T07:06:45.569558Z",
     "start_time": "2024-05-01T07:06:45.566360Z"
    }
   },
   "outputs": [],
   "source": [
    "from os import listdir\n",
    "from os.path import isfile, join\n",
    "import pandas as pd\n",
    "import numpy as np"
   ]
  },
  {
   "cell_type": "code",
   "outputs": [],
   "source": [
    "mypath = \"data\""
   ],
   "metadata": {
    "collapsed": false,
    "ExecuteTime": {
     "end_time": "2024-05-01T07:06:45.577279Z",
     "start_time": "2024-05-01T07:06:45.570562Z"
    }
   },
   "id": "ce110bddaf459d2d",
   "execution_count": 2
  },
  {
   "cell_type": "code",
   "outputs": [],
   "source": [
    "activities = listdir(mypath)"
   ],
   "metadata": {
    "collapsed": false,
    "ExecuteTime": {
     "end_time": "2024-05-01T07:06:45.586177Z",
     "start_time": "2024-05-01T07:06:45.577279Z"
    }
   },
   "id": "4a3109cea4f1878",
   "execution_count": 3
  },
  {
   "cell_type": "code",
   "outputs": [
    {
     "data": {
      "text/plain": "['idle', 'running', 'stairs', 'walking']"
     },
     "execution_count": 4,
     "metadata": {},
     "output_type": "execute_result"
    }
   ],
   "source": [
    "activities"
   ],
   "metadata": {
    "collapsed": false,
    "ExecuteTime": {
     "end_time": "2024-05-01T07:06:45.596084Z",
     "start_time": "2024-05-01T07:06:45.587182Z"
    }
   },
   "id": "1d7e93dfc3efcccc",
   "execution_count": 4
  },
  {
   "cell_type": "code",
   "outputs": [
    {
     "name": "stdout",
     "output_type": "stream",
     "text": [
      "idle 1039\n",
      "running 3408\n",
      "stairs 165\n",
      "walking 1850\n"
     ]
    }
   ],
   "source": [
    "for act in activities:\n",
    "    path = mypath + \"/\" + act\n",
    "    frames = listdir(path)\n",
    "    print(act, len(frames))"
   ],
   "metadata": {
    "collapsed": false,
    "ExecuteTime": {
     "end_time": "2024-05-01T07:06:45.614521Z",
     "start_time": "2024-05-01T07:06:45.597089Z"
    }
   },
   "id": "3aaace73fe707fc3",
   "execution_count": 5
  },
  {
   "cell_type": "code",
   "outputs": [],
   "source": [],
   "metadata": {
    "collapsed": false
   },
   "id": "123ebd6c11b8c1d6"
  }
 ],
 "metadata": {
  "kernelspec": {
   "display_name": "Python 3",
   "language": "python",
   "name": "python3"
  },
  "language_info": {
   "codemirror_mode": {
    "name": "ipython",
    "version": 2
   },
   "file_extension": ".py",
   "mimetype": "text/x-python",
   "name": "python",
   "nbconvert_exporter": "python",
   "pygments_lexer": "ipython2",
   "version": "2.7.6"
  }
 },
 "nbformat": 4,
 "nbformat_minor": 5
}
