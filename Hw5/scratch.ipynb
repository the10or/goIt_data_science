{
 "cells": [
  {
   "cell_type": "code",
   "execution_count": 1,
   "id": "aef05e7a9ec17486",
   "metadata": {
    "collapsed": false,
    "ExecuteTime": {
     "end_time": "2024-05-24T11:27:43.923928Z",
     "start_time": "2024-05-24T11:27:42.748243Z"
    }
   },
   "outputs": [],
   "source": [
    "import pandas as pd\n",
    "import numpy as np\n",
    "from pathlib import Path\n",
    "from sklearn.model_selection import train_test_split\n",
    "from sklearn.svm import SVC\n",
    "from sklearn.ensemble import RandomForestClassifier\n",
    "from sklearn.metrics import classification_report"
   ]
  },
  {
   "cell_type": "code",
   "outputs": [
    {
     "data": {
      "text/plain": "['idle', 'running', 'stairs', 'walking']"
     },
     "execution_count": 23,
     "metadata": {},
     "output_type": "execute_result"
    }
   ],
   "source": [
    "\n",
    "# Шлях до папки з даними\n",
    "base_path = Path(\"data\")\n",
    "from os import listdir\n",
    "activity_folders = listdir(base_path)\n",
    "activity_folders"
   ],
   "metadata": {
    "collapsed": false,
    "ExecuteTime": {
     "end_time": "2024-05-24T11:42:02.255788Z",
     "start_time": "2024-05-24T11:42:02.250826Z"
    }
   },
   "id": "c6bccb061d6a7e2b",
   "execution_count": 23
  },
  {
   "cell_type": "code",
   "outputs": [
    {
     "data": {
      "text/plain": "        accelerometer_X  accelerometer_Y  accelerometer_Z activity\n0              1.000776         4.616021         8.576031     idle\n1              0.718261         4.209007         8.446744     idle\n2             -0.909797        -0.282516         9.203311     idle\n3              5.099650         0.148441         8.418014     idle\n4              1.762132        -0.162806         9.251195     idle\n...                 ...              ...              ...      ...\n193855         5.109226       -15.452178        -1.470040  walking\n193856         6.373365       -11.741165        -8.226476  walking\n193857         3.289633        -9.993398        -0.383072  walking\n193858        -2.978387        -3.050213         1.273715  walking\n193859        -4.347870        -9.926360        -1.642422  walking\n\n[193860 rows x 4 columns]",
      "text/html": "<div>\n<style scoped>\n    .dataframe tbody tr th:only-of-type {\n        vertical-align: middle;\n    }\n\n    .dataframe tbody tr th {\n        vertical-align: top;\n    }\n\n    .dataframe thead th {\n        text-align: right;\n    }\n</style>\n<table border=\"1\" class=\"dataframe\">\n  <thead>\n    <tr style=\"text-align: right;\">\n      <th></th>\n      <th>accelerometer_X</th>\n      <th>accelerometer_Y</th>\n      <th>accelerometer_Z</th>\n      <th>activity</th>\n    </tr>\n  </thead>\n  <tbody>\n    <tr>\n      <th>0</th>\n      <td>1.000776</td>\n      <td>4.616021</td>\n      <td>8.576031</td>\n      <td>idle</td>\n    </tr>\n    <tr>\n      <th>1</th>\n      <td>0.718261</td>\n      <td>4.209007</td>\n      <td>8.446744</td>\n      <td>idle</td>\n    </tr>\n    <tr>\n      <th>2</th>\n      <td>-0.909797</td>\n      <td>-0.282516</td>\n      <td>9.203311</td>\n      <td>idle</td>\n    </tr>\n    <tr>\n      <th>3</th>\n      <td>5.099650</td>\n      <td>0.148441</td>\n      <td>8.418014</td>\n      <td>idle</td>\n    </tr>\n    <tr>\n      <th>4</th>\n      <td>1.762132</td>\n      <td>-0.162806</td>\n      <td>9.251195</td>\n      <td>idle</td>\n    </tr>\n    <tr>\n      <th>...</th>\n      <td>...</td>\n      <td>...</td>\n      <td>...</td>\n      <td>...</td>\n    </tr>\n    <tr>\n      <th>193855</th>\n      <td>5.109226</td>\n      <td>-15.452178</td>\n      <td>-1.470040</td>\n      <td>walking</td>\n    </tr>\n    <tr>\n      <th>193856</th>\n      <td>6.373365</td>\n      <td>-11.741165</td>\n      <td>-8.226476</td>\n      <td>walking</td>\n    </tr>\n    <tr>\n      <th>193857</th>\n      <td>3.289633</td>\n      <td>-9.993398</td>\n      <td>-0.383072</td>\n      <td>walking</td>\n    </tr>\n    <tr>\n      <th>193858</th>\n      <td>-2.978387</td>\n      <td>-3.050213</td>\n      <td>1.273715</td>\n      <td>walking</td>\n    </tr>\n    <tr>\n      <th>193859</th>\n      <td>-4.347870</td>\n      <td>-9.926360</td>\n      <td>-1.642422</td>\n      <td>walking</td>\n    </tr>\n  </tbody>\n</table>\n<p>193860 rows × 4 columns</p>\n</div>"
     },
     "execution_count": 3,
     "metadata": {},
     "output_type": "execute_result"
    }
   ],
   "source": [
    "# Функція для завантаження CSV-файлів з підпапки\n",
    "def load_data_from_folder(folder_path, activity_label):\n",
    "    all_files = folder_path.glob(\"*.csv\")\n",
    "    data_list = []\n",
    "    \n",
    "    for file in all_files:\n",
    "        df = pd.read_csv(file)\n",
    "        df['activity'] = activity_label  # Додамо стовпчик з назвою активності\n",
    "        data_list.append(df)\n",
    "    \n",
    "    return pd.concat(data_list, ignore_index=True)\n",
    "\n",
    "# Завантажимо дані з усіх підпапок\n",
    "all_data = []\n",
    "for activity in activity_folders:\n",
    "    folder_path = base_path / activity\n",
    "    activity_data = load_data_from_folder(folder_path, activity)\n",
    "    all_data.append(activity_data)\n",
    "\n",
    "# Об'єднаємо всі дані в один DataFrame\n",
    "df = pd.concat(all_data, ignore_index=True)\n",
    "df"
   ],
   "metadata": {
    "collapsed": false,
    "ExecuteTime": {
     "end_time": "2024-05-24T11:28:17.549468Z",
     "start_time": "2024-05-24T11:28:10.891338Z"
    }
   },
   "id": "7f1d5e23e44d7780",
   "execution_count": 3
  },
  {
   "cell_type": "code",
   "outputs": [
    {
     "name": "stderr",
     "output_type": "stream",
     "text": [
      "C:\\Users\\the10\\AppData\\Local\\Temp\\ipykernel_25180\\2546506748.py:23: DeprecationWarning: DataFrameGroupBy.apply operated on the grouping columns. This behavior is deprecated, and in a future version of pandas the grouping columns will be excluded from the operation. Either pass `include_groups=False` to exclude the groupings or explicitly select the grouping columns after groupby to silence this warning.\n",
      "  grouped = df.groupby(['activity', df.index // 30]).apply(add_stat_features).reset_index()\n"
     ]
    },
    {
     "data": {
      "text/plain": "     activity  level_1    mean_X     std_X     min_X      max_X     mean_Y  \\\n0        idle        0  0.178448  1.036361 -0.909797   5.099650   0.167435   \n1        idle        1 -0.098641  0.125848 -0.320823   0.407014  -0.131202   \n2        idle        2 -0.099918  0.015642 -0.124498  -0.062249   0.220905   \n3        idle        3  0.400949  0.052889  0.268151   0.560243  -0.029528   \n4        idle        4  0.400949  0.053187  0.268151   0.560243  -0.027134   \n...       ...      ...       ...       ...       ...        ...        ...   \n6457  walking     6457  0.396639  3.474121 -5.990292   7.192182 -10.702081   \n6458  walking     6458  0.418028  3.533930 -7.359776   7.192182 -10.736398   \n6459  walking     6459  1.151771  3.948034 -7.359776  11.113884 -10.878295   \n6460  walking     6460  1.551123  4.016935 -7.359776  11.113884 -11.146126   \n6461  walking     6461  1.131979  4.212427 -7.359776  11.113884 -10.937192   \n\n         std_Y      min_Y     max_Y    mean_Z     std_Z      min_Z      max_Z  \n0     1.157603  -0.282516  4.616021  9.605697  0.406903   8.418014   9.806650  \n1     0.048059  -0.244209  0.023942  9.771216  0.025419   9.667787   9.806650  \n2     0.016383   0.177171  0.244209  9.768503  0.014528   9.739613   9.792285  \n3     0.054525  -0.205901  0.086191  9.752541  0.017967   9.725247   9.797073  \n4     0.054004  -0.205901  0.086191  9.753659  0.018902   9.725247   9.797073  \n...        ...        ...       ...       ...       ...        ...        ...  \n6457  5.285310 -25.201366  0.181959 -0.202230  8.666662 -20.058622  32.599450  \n6458  5.329992 -25.201366  0.181959 -0.090980  8.675810 -20.058622  32.599450  \n6459  5.412533 -25.201366  0.181959  0.364557  7.863650 -16.903065  32.599450  \n6460  5.294201 -25.201366  0.181959  0.233036  7.943439 -16.903065  32.599450  \n6461  5.443090 -25.201366  0.181959  0.260170  7.941497 -16.903065  32.599450  \n\n[6462 rows x 14 columns]",
      "text/html": "<div>\n<style scoped>\n    .dataframe tbody tr th:only-of-type {\n        vertical-align: middle;\n    }\n\n    .dataframe tbody tr th {\n        vertical-align: top;\n    }\n\n    .dataframe thead th {\n        text-align: right;\n    }\n</style>\n<table border=\"1\" class=\"dataframe\">\n  <thead>\n    <tr style=\"text-align: right;\">\n      <th></th>\n      <th>activity</th>\n      <th>level_1</th>\n      <th>mean_X</th>\n      <th>std_X</th>\n      <th>min_X</th>\n      <th>max_X</th>\n      <th>mean_Y</th>\n      <th>std_Y</th>\n      <th>min_Y</th>\n      <th>max_Y</th>\n      <th>mean_Z</th>\n      <th>std_Z</th>\n      <th>min_Z</th>\n      <th>max_Z</th>\n    </tr>\n  </thead>\n  <tbody>\n    <tr>\n      <th>0</th>\n      <td>idle</td>\n      <td>0</td>\n      <td>0.178448</td>\n      <td>1.036361</td>\n      <td>-0.909797</td>\n      <td>5.099650</td>\n      <td>0.167435</td>\n      <td>1.157603</td>\n      <td>-0.282516</td>\n      <td>4.616021</td>\n      <td>9.605697</td>\n      <td>0.406903</td>\n      <td>8.418014</td>\n      <td>9.806650</td>\n    </tr>\n    <tr>\n      <th>1</th>\n      <td>idle</td>\n      <td>1</td>\n      <td>-0.098641</td>\n      <td>0.125848</td>\n      <td>-0.320823</td>\n      <td>0.407014</td>\n      <td>-0.131202</td>\n      <td>0.048059</td>\n      <td>-0.244209</td>\n      <td>0.023942</td>\n      <td>9.771216</td>\n      <td>0.025419</td>\n      <td>9.667787</td>\n      <td>9.806650</td>\n    </tr>\n    <tr>\n      <th>2</th>\n      <td>idle</td>\n      <td>2</td>\n      <td>-0.099918</td>\n      <td>0.015642</td>\n      <td>-0.124498</td>\n      <td>-0.062249</td>\n      <td>0.220905</td>\n      <td>0.016383</td>\n      <td>0.177171</td>\n      <td>0.244209</td>\n      <td>9.768503</td>\n      <td>0.014528</td>\n      <td>9.739613</td>\n      <td>9.792285</td>\n    </tr>\n    <tr>\n      <th>3</th>\n      <td>idle</td>\n      <td>3</td>\n      <td>0.400949</td>\n      <td>0.052889</td>\n      <td>0.268151</td>\n      <td>0.560243</td>\n      <td>-0.029528</td>\n      <td>0.054525</td>\n      <td>-0.205901</td>\n      <td>0.086191</td>\n      <td>9.752541</td>\n      <td>0.017967</td>\n      <td>9.725247</td>\n      <td>9.797073</td>\n    </tr>\n    <tr>\n      <th>4</th>\n      <td>idle</td>\n      <td>4</td>\n      <td>0.400949</td>\n      <td>0.053187</td>\n      <td>0.268151</td>\n      <td>0.560243</td>\n      <td>-0.027134</td>\n      <td>0.054004</td>\n      <td>-0.205901</td>\n      <td>0.086191</td>\n      <td>9.753659</td>\n      <td>0.018902</td>\n      <td>9.725247</td>\n      <td>9.797073</td>\n    </tr>\n    <tr>\n      <th>...</th>\n      <td>...</td>\n      <td>...</td>\n      <td>...</td>\n      <td>...</td>\n      <td>...</td>\n      <td>...</td>\n      <td>...</td>\n      <td>...</td>\n      <td>...</td>\n      <td>...</td>\n      <td>...</td>\n      <td>...</td>\n      <td>...</td>\n      <td>...</td>\n    </tr>\n    <tr>\n      <th>6457</th>\n      <td>walking</td>\n      <td>6457</td>\n      <td>0.396639</td>\n      <td>3.474121</td>\n      <td>-5.990292</td>\n      <td>7.192182</td>\n      <td>-10.702081</td>\n      <td>5.285310</td>\n      <td>-25.201366</td>\n      <td>0.181959</td>\n      <td>-0.202230</td>\n      <td>8.666662</td>\n      <td>-20.058622</td>\n      <td>32.599450</td>\n    </tr>\n    <tr>\n      <th>6458</th>\n      <td>walking</td>\n      <td>6458</td>\n      <td>0.418028</td>\n      <td>3.533930</td>\n      <td>-7.359776</td>\n      <td>7.192182</td>\n      <td>-10.736398</td>\n      <td>5.329992</td>\n      <td>-25.201366</td>\n      <td>0.181959</td>\n      <td>-0.090980</td>\n      <td>8.675810</td>\n      <td>-20.058622</td>\n      <td>32.599450</td>\n    </tr>\n    <tr>\n      <th>6459</th>\n      <td>walking</td>\n      <td>6459</td>\n      <td>1.151771</td>\n      <td>3.948034</td>\n      <td>-7.359776</td>\n      <td>11.113884</td>\n      <td>-10.878295</td>\n      <td>5.412533</td>\n      <td>-25.201366</td>\n      <td>0.181959</td>\n      <td>0.364557</td>\n      <td>7.863650</td>\n      <td>-16.903065</td>\n      <td>32.599450</td>\n    </tr>\n    <tr>\n      <th>6460</th>\n      <td>walking</td>\n      <td>6460</td>\n      <td>1.551123</td>\n      <td>4.016935</td>\n      <td>-7.359776</td>\n      <td>11.113884</td>\n      <td>-11.146126</td>\n      <td>5.294201</td>\n      <td>-25.201366</td>\n      <td>0.181959</td>\n      <td>0.233036</td>\n      <td>7.943439</td>\n      <td>-16.903065</td>\n      <td>32.599450</td>\n    </tr>\n    <tr>\n      <th>6461</th>\n      <td>walking</td>\n      <td>6461</td>\n      <td>1.131979</td>\n      <td>4.212427</td>\n      <td>-7.359776</td>\n      <td>11.113884</td>\n      <td>-10.937192</td>\n      <td>5.443090</td>\n      <td>-25.201366</td>\n      <td>0.181959</td>\n      <td>0.260170</td>\n      <td>7.941497</td>\n      <td>-16.903065</td>\n      <td>32.599450</td>\n    </tr>\n  </tbody>\n</table>\n<p>6462 rows × 14 columns</p>\n</div>"
     },
     "execution_count": 4,
     "metadata": {},
     "output_type": "execute_result"
    }
   ],
   "source": [
    "\n",
    "# Функція для додавання статистичних фічей\n",
    "def add_stat_features(df):\n",
    "    features = {}\n",
    "    \n",
    "    features['mean_X'] = df['accelerometer_X'].mean()\n",
    "    features['std_X'] = df['accelerometer_X'].std()\n",
    "    features['min_X'] = df['accelerometer_X'].min()\n",
    "    features['max_X'] = df['accelerometer_X'].max()\n",
    "    \n",
    "    features['mean_Y'] = df['accelerometer_Y'].mean()\n",
    "    features['std_Y'] = df['accelerometer_Y'].std()\n",
    "    features['min_Y'] = df['accelerometer_Y'].min()\n",
    "    features['max_Y'] = df['accelerometer_Y'].max()\n",
    "    \n",
    "    features['mean_Z'] = df['accelerometer_Z'].mean()\n",
    "    features['std_Z'] = df['accelerometer_Z'].std()\n",
    "    features['min_Z'] = df['accelerometer_Z'].min()\n",
    "    features['max_Z'] = df['accelerometer_Z'].max()\n",
    "    \n",
    "    return pd.Series(features)\n",
    "\n",
    "# Згрупуємо дані по файлах і додамо статистичні фічі\n",
    "grouped = df.groupby(['activity', df.index // 30]).apply(add_stat_features).reset_index()\n",
    "grouped"
   ],
   "metadata": {
    "collapsed": false,
    "ExecuteTime": {
     "end_time": "2024-05-24T11:29:24.838924Z",
     "start_time": "2024-05-24T11:29:21.689034Z"
    }
   },
   "id": "732ea02295459e79",
   "execution_count": 4
  },
  {
   "cell_type": "code",
   "outputs": [
    {
     "name": "stdout",
     "output_type": "stream",
     "text": [
      " SVM Accuracy: 0.9902011346054668\n",
      "SVM Classification Report:\n",
      "               precision    recall  f1-score   support\n",
      "\n",
      "        idle       1.00      1.00      1.00       312\n",
      "     running       1.00      1.00      1.00      1023\n",
      "      stairs       0.89      0.69      0.78        49\n",
      "     walking       0.97      0.99      0.98       555\n",
      "\n",
      "    accuracy                           0.99      1939\n",
      "   macro avg       0.97      0.92      0.94      1939\n",
      "weighted avg       0.99      0.99      0.99      1939\n"
     ]
    }
   ],
   "source": [
    "\n",
    "# Розділення даних на тренувальну і тестову вибірки\n",
    "X = grouped.drop(columns=['activity', 'level_1'])\n",
    "y = grouped['activity']\n",
    "\n",
    "X_train, X_test, y_train, y_test = train_test_split(X, y, test_size=0.3, random_state=42, stratify=y)\n",
    "\n",
    "# Навчання моделей SVM та RandomForest\n",
    "svm_model = SVC(kernel='linear')\n",
    "svm_model.fit(X_train, y_train)\n",
    "y_pred_svm = svm_model.predict(X_test)\n",
    "print(f\" SVM Accuracy: {svm_model.score(X_test, y_test)}\")\n",
    "print(\"SVM Classification Report:\\n\", classification_report(y_test, y_pred_svm))"
   ],
   "metadata": {
    "collapsed": false,
    "ExecuteTime": {
     "end_time": "2024-05-24T11:33:37.056406Z",
     "start_time": "2024-05-24T11:33:36.946137Z"
    }
   },
   "id": "61d2ba0e43b7a70",
   "execution_count": 9
  },
  {
   "cell_type": "code",
   "outputs": [
    {
     "name": "stdout",
     "output_type": "stream",
     "text": [
      "\n",
      "RandomForest Classification Report:\n",
      "               precision    recall  f1-score   support\n",
      "\n",
      "        idle       1.00      1.00      1.00       312\n",
      "     running       1.00      1.00      1.00      1023\n",
      "      stairs       1.00      0.96      0.98        49\n",
      "     walking       1.00      1.00      1.00       555\n",
      "\n",
      "    accuracy                           1.00      1939\n",
      "   macro avg       1.00      0.99      0.99      1939\n",
      "weighted avg       1.00      1.00      1.00      1939\n"
     ]
    }
   ],
   "source": [
    "\n",
    "rf_model = RandomForestClassifier(n_estimators=100, random_state=42)\n",
    "rf_model.fit(X_train, y_train)\n",
    "y_pred_rf = rf_model.predict(X_test)\n",
    "print(\"\\nRandomForest Classification Report:\\n\", classification_report(y_test, y_pred_rf))\n"
   ],
   "metadata": {
    "collapsed": true,
    "ExecuteTime": {
     "end_time": "2024-05-24T11:33:59.251686Z",
     "start_time": "2024-05-24T11:33:58.670256Z"
    }
   },
   "id": "initial_id",
   "execution_count": 10
  }
 ],
 "metadata": {
  "kernelspec": {
   "display_name": "Python 3",
   "language": "python",
   "name": "python3"
  },
  "language_info": {
   "codemirror_mode": {
    "name": "ipython",
    "version": 2
   },
   "file_extension": ".py",
   "mimetype": "text/x-python",
   "name": "python",
   "nbconvert_exporter": "python",
   "pygments_lexer": "ipython2",
   "version": "2.7.6"
  }
 },
 "nbformat": 4,
 "nbformat_minor": 5
}
