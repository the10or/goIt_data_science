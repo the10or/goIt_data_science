{
 "cells": [
  {
   "cell_type": "markdown",
   "source": [
    "# Hw5"
   ],
   "metadata": {
    "collapsed": false
   },
   "id": "aa7b1a4cd706ea70"
  },
  {
   "cell_type": "code",
   "outputs": [],
   "source": [
    "import pandas as pd\n",
    "from pathlib import Path\n",
    "from scipy.stats import kurtosis, skew\n",
    "from os import listdir"
   ],
   "metadata": {
    "collapsed": false,
    "ExecuteTime": {
     "end_time": "2024-05-28T07:29:35.601515Z",
     "start_time": "2024-05-28T07:29:34.690511Z"
    }
   },
   "id": "c2757f7ee55c038b",
   "execution_count": 1
  },
  {
   "cell_type": "markdown",
   "source": [
    "## Завантаження даних"
   ],
   "metadata": {
    "collapsed": false
   },
   "id": "8653167dee439ec7"
  },
  {
   "cell_type": "code",
   "outputs": [
    {
     "name": "stdout",
     "output_type": "stream",
     "text": [
      "Number of records in each activity folder:\n",
      "\n",
      "idle: 1039\n",
      "running: 3408\n",
      "stairs: 165\n",
      "walking: 1850\n"
     ]
    }
   ],
   "source": [
    "\n",
    "base_path = Path(\"data\")\n",
    "activity_folders = listdir(base_path)\n",
    "\n",
    "print(f'Number of records in each activity folder:\\n')\n",
    "for folder in activity_folders:\n",
    "    print(f'{folder}: {len(listdir(base_path / folder))}')"
   ],
   "metadata": {
    "collapsed": false,
    "ExecuteTime": {
     "end_time": "2024-05-28T07:29:35.617962Z",
     "start_time": "2024-05-28T07:29:35.602518Z"
    }
   },
   "id": "5b3b61318678953e",
   "execution_count": 2
  },
  {
   "cell_type": "markdown",
   "source": [
    "## Створення датасету"
   ],
   "metadata": {
    "collapsed": false
   },
   "id": "d0b28d1dcc79a632"
  },
  {
   "cell_type": "code",
   "outputs": [
    {
     "data": {
      "text/plain": "   accelerometer_X  accelerometer_Y  accelerometer_Z activity\n0         1.000776         4.616021         8.576031     idle\n1         0.718261         4.209007         8.446744     idle\n2        -0.909797        -0.282516         9.203311     idle\n3         5.099650         0.148441         8.418014     idle\n4         1.762132        -0.162806         9.251195     idle",
      "text/html": "<div>\n<style scoped>\n    .dataframe tbody tr th:only-of-type {\n        vertical-align: middle;\n    }\n\n    .dataframe tbody tr th {\n        vertical-align: top;\n    }\n\n    .dataframe thead th {\n        text-align: right;\n    }\n</style>\n<table border=\"1\" class=\"dataframe\">\n  <thead>\n    <tr style=\"text-align: right;\">\n      <th></th>\n      <th>accelerometer_X</th>\n      <th>accelerometer_Y</th>\n      <th>accelerometer_Z</th>\n      <th>activity</th>\n    </tr>\n  </thead>\n  <tbody>\n    <tr>\n      <th>0</th>\n      <td>1.000776</td>\n      <td>4.616021</td>\n      <td>8.576031</td>\n      <td>idle</td>\n    </tr>\n    <tr>\n      <th>1</th>\n      <td>0.718261</td>\n      <td>4.209007</td>\n      <td>8.446744</td>\n      <td>idle</td>\n    </tr>\n    <tr>\n      <th>2</th>\n      <td>-0.909797</td>\n      <td>-0.282516</td>\n      <td>9.203311</td>\n      <td>idle</td>\n    </tr>\n    <tr>\n      <th>3</th>\n      <td>5.099650</td>\n      <td>0.148441</td>\n      <td>8.418014</td>\n      <td>idle</td>\n    </tr>\n    <tr>\n      <th>4</th>\n      <td>1.762132</td>\n      <td>-0.162806</td>\n      <td>9.251195</td>\n      <td>idle</td>\n    </tr>\n  </tbody>\n</table>\n</div>"
     },
     "execution_count": 3,
     "metadata": {},
     "output_type": "execute_result"
    }
   ],
   "source": [
    "\n",
    "def load_data_from_folder(folder_path, activity_label):\n",
    "    all_files = folder_path.glob(\"*.csv\")\n",
    "    data_list = []\n",
    "    \n",
    "    for file in all_files:\n",
    "        df = pd.read_csv(file)\n",
    "        df['activity'] = activity_label  \n",
    "        data_list.append(df)\n",
    "    \n",
    "    return pd.concat(data_list, ignore_index=True)\n",
    "\n",
    "all_data = []\n",
    "for activity in activity_folders:\n",
    "    folder_path = base_path / activity\n",
    "    activity_data = load_data_from_folder(folder_path, activity)\n",
    "    all_data.append(activity_data)\n",
    "\n",
    "\n",
    "df = pd.concat(all_data, ignore_index=True)\n",
    "df.head()"
   ],
   "metadata": {
    "collapsed": false,
    "ExecuteTime": {
     "end_time": "2024-05-28T07:29:42.252611Z",
     "start_time": "2024-05-28T07:29:35.618466Z"
    }
   },
   "id": "6fe7450c47f3d121",
   "execution_count": 3
  },
  {
   "cell_type": "markdown",
   "source": [
    "## Додавання time domain features"
   ],
   "metadata": {
    "collapsed": false
   },
   "id": "b8608c0d81da55b5"
  },
  {
   "cell_type": "code",
   "outputs": [
    {
     "data": {
      "text/plain": "  activity  level_1    mean_X     std_X     min_X     max_X  median_X  \\\n0     idle        0  0.178448  1.036361 -0.909797  5.099650 -0.102950   \n1     idle        1 -0.098641  0.125848 -0.320823  0.407014 -0.114922   \n2     idle        2 -0.099918  0.015642 -0.124498 -0.062249 -0.100556   \n3     idle        3  0.400949  0.052889  0.268151  0.560243  0.392649   \n4     idle        4  0.400949  0.053187  0.268151  0.560243  0.402226   \n\n    range_X  kurtosis_X  skewness_X  ...  kurtosis_Y  skewness_Y    mean_Z  \\\n0  6.009447   15.400041    3.839216  ...   10.086172    3.462503  9.605697   \n1  0.727837    7.508929    2.184006  ...    3.235176    0.539408  9.771216   \n2  0.062249   -0.072724    0.573616  ...    1.269381   -1.208369  9.768503   \n3  0.292092    2.061311    0.381131  ...    2.331288   -0.814327  9.752541   \n4  0.292092    1.953499    0.367899  ...    2.685060   -0.950313  9.753659   \n\n      std_Z     min_Z     max_Z  median_Z   range_Z  kurtosis_Z  skewness_Z  \n0  0.406903  8.418014  9.806650  9.770737  1.388636    3.481228   -2.245364  \n1  0.025419  9.667787  9.806650  9.777920  0.138863    7.285421   -2.287712  \n2  0.014528  9.739613  9.792285  9.768343  0.052672   -0.752640   -0.092533  \n3  0.017967  9.725247  9.797073  9.751583  0.071826   -0.150002    0.537257  \n4  0.018902  9.725247  9.797073  9.751583  0.071826   -0.583786    0.430159  \n\n[5 rows x 26 columns]",
      "text/html": "<div>\n<style scoped>\n    .dataframe tbody tr th:only-of-type {\n        vertical-align: middle;\n    }\n\n    .dataframe tbody tr th {\n        vertical-align: top;\n    }\n\n    .dataframe thead th {\n        text-align: right;\n    }\n</style>\n<table border=\"1\" class=\"dataframe\">\n  <thead>\n    <tr style=\"text-align: right;\">\n      <th></th>\n      <th>activity</th>\n      <th>level_1</th>\n      <th>mean_X</th>\n      <th>std_X</th>\n      <th>min_X</th>\n      <th>max_X</th>\n      <th>median_X</th>\n      <th>range_X</th>\n      <th>kurtosis_X</th>\n      <th>skewness_X</th>\n      <th>...</th>\n      <th>kurtosis_Y</th>\n      <th>skewness_Y</th>\n      <th>mean_Z</th>\n      <th>std_Z</th>\n      <th>min_Z</th>\n      <th>max_Z</th>\n      <th>median_Z</th>\n      <th>range_Z</th>\n      <th>kurtosis_Z</th>\n      <th>skewness_Z</th>\n    </tr>\n  </thead>\n  <tbody>\n    <tr>\n      <th>0</th>\n      <td>idle</td>\n      <td>0</td>\n      <td>0.178448</td>\n      <td>1.036361</td>\n      <td>-0.909797</td>\n      <td>5.099650</td>\n      <td>-0.102950</td>\n      <td>6.009447</td>\n      <td>15.400041</td>\n      <td>3.839216</td>\n      <td>...</td>\n      <td>10.086172</td>\n      <td>3.462503</td>\n      <td>9.605697</td>\n      <td>0.406903</td>\n      <td>8.418014</td>\n      <td>9.806650</td>\n      <td>9.770737</td>\n      <td>1.388636</td>\n      <td>3.481228</td>\n      <td>-2.245364</td>\n    </tr>\n    <tr>\n      <th>1</th>\n      <td>idle</td>\n      <td>1</td>\n      <td>-0.098641</td>\n      <td>0.125848</td>\n      <td>-0.320823</td>\n      <td>0.407014</td>\n      <td>-0.114922</td>\n      <td>0.727837</td>\n      <td>7.508929</td>\n      <td>2.184006</td>\n      <td>...</td>\n      <td>3.235176</td>\n      <td>0.539408</td>\n      <td>9.771216</td>\n      <td>0.025419</td>\n      <td>9.667787</td>\n      <td>9.806650</td>\n      <td>9.777920</td>\n      <td>0.138863</td>\n      <td>7.285421</td>\n      <td>-2.287712</td>\n    </tr>\n    <tr>\n      <th>2</th>\n      <td>idle</td>\n      <td>2</td>\n      <td>-0.099918</td>\n      <td>0.015642</td>\n      <td>-0.124498</td>\n      <td>-0.062249</td>\n      <td>-0.100556</td>\n      <td>0.062249</td>\n      <td>-0.072724</td>\n      <td>0.573616</td>\n      <td>...</td>\n      <td>1.269381</td>\n      <td>-1.208369</td>\n      <td>9.768503</td>\n      <td>0.014528</td>\n      <td>9.739613</td>\n      <td>9.792285</td>\n      <td>9.768343</td>\n      <td>0.052672</td>\n      <td>-0.752640</td>\n      <td>-0.092533</td>\n    </tr>\n    <tr>\n      <th>3</th>\n      <td>idle</td>\n      <td>3</td>\n      <td>0.400949</td>\n      <td>0.052889</td>\n      <td>0.268151</td>\n      <td>0.560243</td>\n      <td>0.392649</td>\n      <td>0.292092</td>\n      <td>2.061311</td>\n      <td>0.381131</td>\n      <td>...</td>\n      <td>2.331288</td>\n      <td>-0.814327</td>\n      <td>9.752541</td>\n      <td>0.017967</td>\n      <td>9.725247</td>\n      <td>9.797073</td>\n      <td>9.751583</td>\n      <td>0.071826</td>\n      <td>-0.150002</td>\n      <td>0.537257</td>\n    </tr>\n    <tr>\n      <th>4</th>\n      <td>idle</td>\n      <td>4</td>\n      <td>0.400949</td>\n      <td>0.053187</td>\n      <td>0.268151</td>\n      <td>0.560243</td>\n      <td>0.402226</td>\n      <td>0.292092</td>\n      <td>1.953499</td>\n      <td>0.367899</td>\n      <td>...</td>\n      <td>2.685060</td>\n      <td>-0.950313</td>\n      <td>9.753659</td>\n      <td>0.018902</td>\n      <td>9.725247</td>\n      <td>9.797073</td>\n      <td>9.751583</td>\n      <td>0.071826</td>\n      <td>-0.583786</td>\n      <td>0.430159</td>\n    </tr>\n  </tbody>\n</table>\n<p>5 rows × 26 columns</p>\n</div>"
     },
     "execution_count": 4,
     "metadata": {},
     "output_type": "execute_result"
    }
   ],
   "source": [
    "\n",
    "def add_time_domain_features(df):\n",
    "    features = {}\n",
    "    \n",
    "    for axis in ['X', 'Y', 'Z']:\n",
    "        col = f'accelerometer_{axis}'\n",
    "        features[f'mean_{axis}'] = df[col].mean()\n",
    "        features[f'std_{axis}'] = df[col].std()\n",
    "        features[f'min_{axis}'] = df[col].min()\n",
    "        features[f'max_{axis}'] = df[col].max()\n",
    "        features[f'median_{axis}'] = df[col].median()\n",
    "        features[f'range_{axis}'] = df[col].max() - df[col].min()\n",
    "        features[f'kurtosis_{axis}'] = kurtosis(df[col])\n",
    "        features[f'skewness_{axis}'] = skew(df[col])\n",
    "    \n",
    "    return pd.Series(features)\n",
    "\n",
    "\n",
    "grouped = df.groupby(['activity', df.index // 30]).apply(add_time_domain_features, include_groups=False).reset_index()\n",
    "\n",
    "grouped.head()\n"
   ],
   "metadata": {
    "collapsed": false,
    "ExecuteTime": {
     "end_time": "2024-05-28T07:30:04.591854Z",
     "start_time": "2024-05-28T07:29:42.253616Z"
    }
   },
   "id": "d141b2f77e639f0a",
   "execution_count": 4
  },
  {
   "cell_type": "markdown",
   "source": [
    "# Розбиття даних на тренувальну та тестову вибірки"
   ],
   "metadata": {
    "collapsed": false
   },
   "id": "e7e27aaf35a0f20"
  },
  {
   "cell_type": "code",
   "outputs": [],
   "source": [
    "from sklearn.model_selection import train_test_split\n",
    "\n",
    "X = grouped.drop(columns=['activity', 'level_1'])\n",
    "y = grouped['activity']\n",
    "\n",
    "X_train, X_test, y_train, y_test = train_test_split(X, y, test_size=0.3, random_state=42, stratify=y)\n"
   ],
   "metadata": {
    "collapsed": false,
    "ExecuteTime": {
     "end_time": "2024-05-28T07:30:04.743584Z",
     "start_time": "2024-05-28T07:30:04.592858Z"
    }
   },
   "id": "b664c5553dd0bb30",
   "execution_count": 5
  },
  {
   "cell_type": "markdown",
   "source": [
    "# SVM модель"
   ],
   "metadata": {
    "collapsed": false
   },
   "id": "aef51b26dde35a87"
  },
  {
   "cell_type": "code",
   "outputs": [
    {
     "name": "stdout",
     "output_type": "stream",
     "text": [
      "SVM Classification Report:\n",
      "               precision    recall  f1-score   support\n",
      "\n",
      "        idle       1.00      1.00      1.00       312\n",
      "     running       1.00      1.00      1.00      1023\n",
      "      stairs       0.73      0.90      0.81        49\n",
      "     walking       0.99      0.97      0.98       555\n",
      "\n",
      "    accuracy                           0.99      1939\n",
      "   macro avg       0.93      0.97      0.95      1939\n",
      "weighted avg       0.99      0.99      0.99      1939\n"
     ]
    }
   ],
   "source": [
    "from sklearn.svm import SVC\n",
    "from sklearn.metrics import classification_report\n",
    "\n",
    "svm_model = SVC(kernel='linear')\n",
    "svm_model.fit(X_train, y_train)\n",
    "y_pred_svm = svm_model.predict(X_test)\n",
    "print(\"SVM Classification Report:\\n\", classification_report(y_test, y_pred_svm))"
   ],
   "metadata": {
    "collapsed": false,
    "ExecuteTime": {
     "end_time": "2024-05-28T07:30:04.878737Z",
     "start_time": "2024-05-28T07:30:04.744589Z"
    }
   },
   "id": "dcf221c6e77de978",
   "execution_count": 6
  },
  {
   "cell_type": "markdown",
   "source": [
    "\n",
    "# RandomForest модель"
   ],
   "metadata": {
    "collapsed": false
   },
   "id": "a2c8b084ad6fd1f4"
  },
  {
   "cell_type": "code",
   "outputs": [
    {
     "name": "stdout",
     "output_type": "stream",
     "text": [
      "RandomForest Classification Report:\n",
      "               precision    recall  f1-score   support\n",
      "\n",
      "        idle       1.00      1.00      1.00       312\n",
      "     running       1.00      1.00      1.00      1023\n",
      "      stairs       1.00      0.94      0.97        49\n",
      "     walking       0.99      1.00      1.00       555\n",
      "\n",
      "    accuracy                           1.00      1939\n",
      "   macro avg       1.00      0.98      0.99      1939\n",
      "weighted avg       1.00      1.00      1.00      1939\n"
     ]
    }
   ],
   "source": [
    "from sklearn.ensemble import RandomForestClassifier\n",
    "rf_model = RandomForestClassifier(n_estimators=100, random_state=42)\n",
    "rf_model.fit(X_train, y_train)\n",
    "y_pred_rf = rf_model.predict(X_test)\n",
    "print(\"RandomForest Classification Report:\\n\", classification_report(y_test, y_pred_rf))\n"
   ],
   "metadata": {
    "collapsed": false,
    "ExecuteTime": {
     "end_time": "2024-05-28T07:30:05.595727Z",
     "start_time": "2024-05-28T07:30:04.879784Z"
    }
   },
   "id": "3f3d7754f6772007",
   "execution_count": 7
  },
  {
   "cell_type": "markdown",
   "source": [
    "## Висновки: загалом обидві моделі показали хороші результати при визначенні активностей idle та running, але при визначенні активностей stairs та walking модель RandomForest виявилась більш ефективною. "
   ],
   "metadata": {
    "collapsed": false
   },
   "id": "46f6c85534211277"
  }
 ],
 "metadata": {
  "kernelspec": {
   "display_name": "Python 3",
   "language": "python",
   "name": "python3"
  },
  "language_info": {
   "codemirror_mode": {
    "name": "ipython",
    "version": 2
   },
   "file_extension": ".py",
   "mimetype": "text/x-python",
   "name": "python",
   "nbconvert_exporter": "python",
   "pygments_lexer": "ipython2",
   "version": "2.7.6"
  }
 },
 "nbformat": 4,
 "nbformat_minor": 5
}
