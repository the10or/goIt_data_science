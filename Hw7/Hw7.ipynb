{
 "cells": [
  {
   "cell_type": "markdown",
   "source": [
    "# Hw7"
   ],
   "metadata": {
    "collapsed": false
   },
   "id": "b46d1ed60580c110"
  },
  {
   "cell_type": "code",
   "execution_count": 1,
   "id": "initial_id",
   "metadata": {
    "collapsed": true,
    "ExecuteTime": {
     "end_time": "2024-04-27T08:09:30.579660Z",
     "start_time": "2024-04-27T08:09:30.265482Z"
    }
   },
   "outputs": [],
   "source": [
    "from surprise import SVD, SVDpp, NMF, Dataset\n",
    "import pandas as pd"
   ]
  },
  {
   "cell_type": "code",
   "outputs": [
    {
     "data": {
      "text/plain": "  user_id item_id  rating  timestamp\n0     196     242     3.0  881250949\n1     186     302     3.0  891717742\n2      22     377     1.0  878887116\n3     244      51     2.0  880606923\n4     166     346     1.0  886397596",
      "text/html": "<div>\n<style scoped>\n    .dataframe tbody tr th:only-of-type {\n        vertical-align: middle;\n    }\n\n    .dataframe tbody tr th {\n        vertical-align: top;\n    }\n\n    .dataframe thead th {\n        text-align: right;\n    }\n</style>\n<table border=\"1\" class=\"dataframe\">\n  <thead>\n    <tr style=\"text-align: right;\">\n      <th></th>\n      <th>user_id</th>\n      <th>item_id</th>\n      <th>rating</th>\n      <th>timestamp</th>\n    </tr>\n  </thead>\n  <tbody>\n    <tr>\n      <th>0</th>\n      <td>196</td>\n      <td>242</td>\n      <td>3.0</td>\n      <td>881250949</td>\n    </tr>\n    <tr>\n      <th>1</th>\n      <td>186</td>\n      <td>302</td>\n      <td>3.0</td>\n      <td>891717742</td>\n    </tr>\n    <tr>\n      <th>2</th>\n      <td>22</td>\n      <td>377</td>\n      <td>1.0</td>\n      <td>878887116</td>\n    </tr>\n    <tr>\n      <th>3</th>\n      <td>244</td>\n      <td>51</td>\n      <td>2.0</td>\n      <td>880606923</td>\n    </tr>\n    <tr>\n      <th>4</th>\n      <td>166</td>\n      <td>346</td>\n      <td>1.0</td>\n      <td>886397596</td>\n    </tr>\n  </tbody>\n</table>\n</div>"
     },
     "execution_count": 2,
     "metadata": {},
     "output_type": "execute_result"
    }
   ],
   "source": [
    "data = Dataset.load_builtin('ml-100k')\n",
    "df = pd.DataFrame(data.raw_ratings, columns=['user_id', 'item_id', 'rating', 'timestamp'])\n",
    "df.head()"
   ],
   "metadata": {
    "collapsed": false,
    "ExecuteTime": {
     "end_time": "2024-04-27T08:09:33.830402Z",
     "start_time": "2024-04-27T08:09:33.581300Z"
    }
   },
   "id": "4b4e907e8a886e79",
   "execution_count": 2
  },
  {
   "cell_type": "markdown",
   "source": [
    "## Підбір параметрів з використанням кросс-валідації за допомогою GridSearchCV"
   ],
   "metadata": {
    "collapsed": false
   },
   "id": "3e8e047ecad3e13"
  },
  {
   "cell_type": "markdown",
   "source": [
    "### SVD"
   ],
   "metadata": {
    "collapsed": false
   },
   "id": "25f48e70ad428f46"
  },
  {
   "cell_type": "code",
   "outputs": [],
   "source": [
    "from surprise.model_selection import GridSearchCV\n",
    "\n",
    "param_grid = {'n_factors': [10, 50, 100], 'n_epochs': [5, 10, 20], 'lr_all': [0.001, 0.005, 0.01], 'reg_all': [0.2, 0.4, 0.6]}\n",
    "gs = GridSearchCV(SVD, param_grid, measures=['rmse', 'mae'], cv=3, n_jobs=-1)\n",
    "gs.fit(data)\n"
   ],
   "metadata": {
    "collapsed": false,
    "ExecuteTime": {
     "end_time": "2024-04-27T08:10:14.357039Z",
     "start_time": "2024-04-27T08:09:53.204523Z"
    }
   },
   "id": "3691d5e0cb2e7796",
   "execution_count": 3
  },
  {
   "cell_type": "code",
   "outputs": [
    {
     "name": "stdout",
     "output_type": "stream",
     "text": [
      " RMSE best score: 0.9462062560679203\n",
      " MAE best score: 0.7531278549303168\n",
      " SVD best params: \n",
      "{'rmse': {'n_factors': 100, 'n_epochs': 20, 'lr_all': 0.01, 'reg_all': 0.2}, 'mae': {'n_factors': 100, 'n_epochs': 20, 'lr_all': 0.01, 'reg_all': 0.2}}\n"
     ]
    }
   ],
   "source": [
    "print(f\" RMSE best score: {gs.best_score['rmse']}\")\n",
    "print(f\" MAE best score: {gs.best_score['mae']}\")\n",
    "print(f\" SVD best params: \\n{gs.best_params}\")"
   ],
   "metadata": {
    "collapsed": false,
    "ExecuteTime": {
     "end_time": "2024-04-27T08:10:30.981603Z",
     "start_time": "2024-04-27T08:10:30.977755Z"
    }
   },
   "id": "292dd6b4afccf1ec",
   "execution_count": 4
  },
  {
   "cell_type": "markdown",
   "source": [
    "### SVD++"
   ],
   "metadata": {
    "collapsed": false
   },
   "id": "a3108db7858405f0"
  },
  {
   "cell_type": "code",
   "outputs": [],
   "source": [
    "gs_svd_pp = GridSearchCV(SVDpp, param_grid, measures=['rmse', 'mae'], cv=3, n_jobs=-1)\n",
    "gs_svd_pp.fit(data)"
   ],
   "metadata": {
    "collapsed": false,
    "ExecuteTime": {
     "end_time": "2024-04-27T08:19:14.535243Z",
     "start_time": "2024-04-27T08:10:42.172338Z"
    }
   },
   "id": "6e65531348ad75df",
   "execution_count": 5
  },
  {
   "cell_type": "code",
   "outputs": [
    {
     "name": "stdout",
     "output_type": "stream",
     "text": [
      " RMSE best score: 0.9438813435677669\n",
      " MAE best score: 0.7508917176160145\n",
      "\n",
      " SVD++ best params: \n",
      "{'rmse': {'n_factors': 100, 'n_epochs': 20, 'lr_all': 0.01, 'reg_all': 0.2}, 'mae': {'n_factors': 100, 'n_epochs': 20, 'lr_all': 0.01, 'reg_all': 0.2}}\n"
     ]
    }
   ],
   "source": [
    "print( f\" RMSE best score: {gs_svd_pp.best_score['rmse']}\")\n",
    "print(f\" MAE best score: {gs_svd_pp.best_score['mae']}\")\n",
    "print(f\"\\n SVD++ best params: \\n{gs_svd_pp.best_params}\")"
   ],
   "metadata": {
    "collapsed": false,
    "ExecuteTime": {
     "end_time": "2024-04-27T08:19:27.856097Z",
     "start_time": "2024-04-27T08:19:27.852028Z"
    }
   },
   "id": "3a8e84bd172ff563",
   "execution_count": 6
  },
  {
   "cell_type": "markdown",
   "source": [
    "### NMF"
   ],
   "metadata": {
    "collapsed": false
   },
   "id": "8b4c3d9e2da0b275"
  },
  {
   "cell_type": "code",
   "outputs": [],
   "source": [
    "param_grid_nmf = {'n_factors': [10, 50, 100], 'n_epochs': [5, 10, 20], 'reg_pu': [0.2, 0.4, 0.6], 'reg_qi': [0.2, 0.4, 0.6]}\n",
    "gs_nmf = GridSearchCV(NMF, param_grid_nmf, measures=['rmse', 'mae'], cv=3, n_jobs=-1)\n",
    "gs_nmf.fit(data)        \n"
   ],
   "metadata": {
    "collapsed": false,
    "ExecuteTime": {
     "end_time": "2024-04-27T08:20:21.108870Z",
     "start_time": "2024-04-27T08:19:52.303797Z"
    }
   },
   "id": "b49f225e0287aec8",
   "execution_count": 7
  },
  {
   "cell_type": "code",
   "outputs": [
    {
     "name": "stdout",
     "output_type": "stream",
     "text": [
      " RMSE best score: 0.9525871594036149\n",
      " MAE best score: 0.7465255842987881\n",
      " NMF best params: \n",
      "{'rmse': {'n_factors': 100, 'n_epochs': 10, 'reg_pu': 0.2, 'reg_qi': 0.6}, 'mae': {'n_factors': 100, 'n_epochs': 20, 'reg_pu': 0.2, 'reg_qi': 0.2}}\n"
     ]
    }
   ],
   "source": [
    "print(f\" RMSE best score: {gs_nmf.best_score['rmse']}\")\n",
    "print(f\" MAE best score: {gs_nmf.best_score['mae']}\")\n",
    "print(f\" NMF best params: \\n{gs_nmf.best_params}\")"
   ],
   "metadata": {
    "collapsed": false,
    "ExecuteTime": {
     "end_time": "2024-04-27T08:20:28.238783Z",
     "start_time": "2024-04-27T08:20:28.234775Z"
    }
   },
   "id": "e4689f7086336a82",
   "execution_count": 8
  },
  {
   "cell_type": "markdown",
   "source": [
    "## Будуємо тренувальну та тестову вибірку"
   ],
   "metadata": {
    "collapsed": false
   },
   "id": "d1be708253062d5"
  },
  {
   "cell_type": "code",
   "outputs": [],
   "source": [
    "trainset = data.build_full_trainset()\n",
    "testset = trainset.build_anti_testset()"
   ],
   "metadata": {
    "collapsed": false,
    "ExecuteTime": {
     "end_time": "2024-04-27T08:26:50.646344Z",
     "start_time": "2024-04-27T08:26:50.013383Z"
    }
   },
   "id": "b1bbcaf8acbab39d",
   "execution_count": 12
  },
  {
   "cell_type": "markdown",
   "source": [
    "## Будуємо та тренуємо модель SVD з найкращими параметрами"
   ],
   "metadata": {
    "collapsed": false
   },
   "id": "454cca5927a5111d"
  },
  {
   "cell_type": "code",
   "outputs": [
    {
     "data": {
      "text/plain": "<surprise.prediction_algorithms.matrix_factorization.SVD at 0x27cb3008810>"
     },
     "execution_count": 9,
     "metadata": {},
     "output_type": "execute_result"
    }
   ],
   "source": [
    "model_svd = gs.best_estimator['rmse']\n",
    "model_svd.fit(trainset)\n"
   ],
   "metadata": {
    "collapsed": false,
    "ExecuteTime": {
     "end_time": "2024-04-27T08:20:50.777093Z",
     "start_time": "2024-04-27T08:20:49.255869Z"
    }
   },
   "id": "18fd4d1a3d5022e9",
   "execution_count": 9
  },
  {
   "cell_type": "code",
   "outputs": [],
   "source": [
    "from collections import defaultdict\n",
    "\n",
    "def get_top_n(predictions, n=10):\n",
    "    \n",
    "    top_n = defaultdict(list)\n",
    "    for uid, iid, true_r, est, _ in predictions:\n",
    "        top_n[uid].append((iid, est))\n",
    "\n",
    "    for uid, user_ratings in top_n.items():\n",
    "        user_ratings.sort(key=lambda x: x[1], reverse=True)\n",
    "        top_n[uid] = user_ratings[:n]\n",
    "\n",
    "    return top_n"
   ],
   "metadata": {
    "collapsed": false,
    "ExecuteTime": {
     "end_time": "2024-04-27T08:32:06.561012Z",
     "start_time": "2024-04-27T08:32:06.555600Z"
    }
   },
   "id": "5b4bf01363f9358f",
   "execution_count": 13
  },
  {
   "cell_type": "code",
   "outputs": [],
   "source": [
    "from surprise import get_dataset_dir\n",
    "def read_item_names():\n",
    "    file_name = get_dataset_dir() + \"/ml-100k/ml-100k/u.item\"\n",
    "    rid_to_name = {}\n",
    "    name_to_rid = {}\n",
    "    with open(file_name, encoding=\"ISO-8859-1\") as f:\n",
    "        for line in f:\n",
    "            line = line.split(\"|\")\n",
    "            rid_to_name[line[0]] = line[1]\n",
    "            name_to_rid[line[1]] = line[0]\n",
    "\n",
    "    return rid_to_name, name_to_rid\n",
    "\n",
    "rid_to_name, name_to_rid = read_item_names()"
   ],
   "metadata": {
    "collapsed": false,
    "ExecuteTime": {
     "end_time": "2024-04-27T08:32:11.859236Z",
     "start_time": "2024-04-27T08:32:11.837834Z"
    }
   },
   "id": "8cbd326d0bfd80aa",
   "execution_count": 14
  },
  {
   "cell_type": "markdown",
   "source": [
    "### Отримуємо рекомендації за допомогою SVD"
   ],
   "metadata": {
    "collapsed": false
   },
   "id": "2e5746da6be940f0"
  },
  {
   "cell_type": "code",
   "outputs": [],
   "source": [
    "predictions = model_svd.test(testset)\n",
    "\n",
    "top_n_svd = get_top_n(predictions, n=10)"
   ],
   "metadata": {
    "collapsed": false
   },
   "id": "de0cb99ab9975881",
   "execution_count": null
  },
  {
   "cell_type": "markdown",
   "source": [
    "### Виводимо рекомендації для користувача за user_id"
   ],
   "metadata": {
    "collapsed": false
   },
   "id": "ce22efad6693f170"
  },
  {
   "cell_type": "code",
   "outputs": [
    {
     "name": "stdout",
     "output_type": "stream",
     "text": [
      "Pather Panchali (1955) 4.75\n",
      "Close Shave, A (1995) 4.7\n",
      "Wrong Trousers, The (1993) 4.67\n",
      "Schindler's List (1993) 4.65\n",
      "Shawshank Redemption, The (1994) 4.62\n",
      "Wallace & Gromit: The Best of Aardman Animation (1996) 4.57\n",
      "Usual Suspects, The (1995) 4.57\n",
      "Casablanca (1942) 4.56\n",
      "Rear Window (1954) 4.53\n",
      "12 Angry Men (1957) 4.53\n"
     ]
    }
   ],
   "source": [
    "for n in top_n_svd['936']:\n",
    "    print(rid_to_name[n[0]], n[1].round(2))"
   ],
   "metadata": {
    "collapsed": false,
    "ExecuteTime": {
     "end_time": "2024-04-27T09:18:42.968495Z",
     "start_time": "2024-04-27T09:18:42.965002Z"
    }
   },
   "id": "89a0aa894ef28a5e",
   "execution_count": 56
  },
  {
   "cell_type": "markdown",
   "source": [
    "## Будуємо та тренуємо модель SVD++ з найкращими параметрами"
   ],
   "metadata": {
    "collapsed": false
   },
   "id": "9f2584ac4d35dbb3"
  },
  {
   "cell_type": "code",
   "outputs": [],
   "source": [
    "model_svdpp = gs_svd_pp.best_estimator['rmse']\n",
    "model_svdpp.fit(data.build_full_trainset())"
   ],
   "metadata": {
    "collapsed": false
   },
   "id": "ce3eb184eec32bd5",
   "execution_count": null
  },
  {
   "cell_type": "markdown",
   "source": [
    "### Отримуємо рекомендації за допомогою SVD++"
   ],
   "metadata": {
    "collapsed": false
   },
   "id": "529956320d94faad"
  },
  {
   "cell_type": "code",
   "outputs": [],
   "source": [
    "predictions_svdpp = model_svdpp.test(testset)\n",
    "top_n_svdpp = get_top_n(predictions_svdpp, n=10)"
   ],
   "metadata": {
    "collapsed": false,
    "ExecuteTime": {
     "end_time": "2024-04-27T09:33:16.715391Z",
     "start_time": "2024-04-27T09:31:39.985704Z"
    }
   },
   "id": "5976e87bace22172",
   "execution_count": 62
  },
  {
   "cell_type": "markdown",
   "source": [
    "### Виводимо рекомендації для користувача за user_id"
   ],
   "metadata": {
    "collapsed": false
   },
   "id": "18f01975e3a68736"
  },
  {
   "cell_type": "code",
   "outputs": [
    {
     "name": "stdout",
     "output_type": "stream",
     "text": [
      "Pather Panchali (1955) 4.73\n",
      "Close Shave, A (1995) 4.72\n",
      "Wrong Trousers, The (1993) 4.69\n",
      "Schindler's List (1993) 4.65\n",
      "Shawshank Redemption, The (1994) 4.62\n",
      "Wallace & Gromit: The Best of Aardman Animation (1996) 4.59\n",
      "Usual Suspects, The (1995) 4.58\n",
      "Casablanca (1942) 4.58\n",
      "Rear Window (1954) 4.55\n",
      "12 Angry Men (1957) 4.55\n"
     ]
    }
   ],
   "source": [
    "for n in top_n_svdpp['936']:\n",
    "    print(rid_to_name[n[0]], n[1].round(2))"
   ],
   "metadata": {
    "collapsed": false,
    "ExecuteTime": {
     "end_time": "2024-04-27T09:34:14.388015Z",
     "start_time": "2024-04-27T09:34:14.383661Z"
    }
   },
   "id": "4a78f8f82934afaf",
   "execution_count": 66
  },
  {
   "cell_type": "markdown",
   "source": [
    "## Будуємо та тренуємо модель NMF з найкращими параметрами"
   ],
   "metadata": {
    "collapsed": false
   },
   "id": "fd75666f2ec5ce7b"
  },
  {
   "cell_type": "code",
   "outputs": [
    {
     "data": {
      "text/plain": "<surprise.prediction_algorithms.matrix_factorization.NMF at 0x27cb1d48a50>"
     },
     "execution_count": 67,
     "metadata": {},
     "output_type": "execute_result"
    }
   ],
   "source": [
    "model_nmf = gs_nmf.best_estimator['rmse']\n",
    "model_nmf.fit(data.build_full_trainset())"
   ],
   "metadata": {
    "collapsed": false,
    "ExecuteTime": {
     "end_time": "2024-04-27T09:35:21.344230Z",
     "start_time": "2024-04-27T09:35:20.513796Z"
    }
   },
   "id": "ef42bb596f08ebd3",
   "execution_count": 67
  },
  {
   "cell_type": "markdown",
   "source": [
    "### Отримуємо рекомендації за допомогою NMF"
   ],
   "metadata": {
    "collapsed": false
   },
   "id": "672d8333f343878b"
  },
  {
   "cell_type": "code",
   "outputs": [],
   "source": [
    "predictions_nmf = model_nmf.test(testset)\n",
    "top_n_nmf = get_top_n(predictions_nmf, n=10)"
   ],
   "metadata": {
    "collapsed": false,
    "ExecuteTime": {
     "end_time": "2024-04-27T09:35:34.439672Z",
     "start_time": "2024-04-27T09:35:28.757194Z"
    }
   },
   "id": "8560c08de8fe29db",
   "execution_count": 68
  },
  {
   "cell_type": "markdown",
   "source": [
    "### Виводимо рекомендації для користувача за user_id"
   ],
   "metadata": {
    "collapsed": false
   },
   "id": "a684e7c88fe426ed"
  },
  {
   "cell_type": "code",
   "outputs": [
    {
     "name": "stdout",
     "output_type": "stream",
     "text": [
      "Santa with Muscles (1996) 5.0\n",
      "Great Day in Harlem, A (1994) 5.0\n",
      "Pather Panchali (1955) 5.0\n",
      "Aiqing wansui (1994) 5.0\n",
      "Someone Else's America (1995) 5.0\n",
      "Some Mother's Son (1996) 5.0\n",
      "Saint of Fort Washington, The (1993) 4.99\n",
      "Faust (1994) 4.95\n",
      "Anna (1996) 4.92\n",
      "Close Shave, A (1995) 4.9\n"
     ]
    }
   ],
   "source": [
    "for n in top_n_nmf['936']:\n",
    "    print(rid_to_name[n[0]], round(float(n[1]), 2))"
   ],
   "metadata": {
    "collapsed": false,
    "ExecuteTime": {
     "end_time": "2024-04-27T09:38:57.821140Z",
     "start_time": "2024-04-27T09:38:57.816912Z"
    }
   },
   "id": "420bc2121233f86c",
   "execution_count": 72
  },
  {
   "cell_type": "markdown",
   "source": [
    "## Висновки:\n",
    "Моделі SVD та SVD++ дають схожі результати, але SVD++ занадто ресурсоємний. Натомість NMF з точки зору швидкодії має накращі показники, але результати суттєво відрізняються від SVD++ та SVD. "
   ],
   "metadata": {
    "collapsed": false
   },
   "id": "769918a4414015ac"
  }
 ],
 "metadata": {
  "kernelspec": {
   "display_name": "Python 3",
   "language": "python",
   "name": "python3"
  },
  "language_info": {
   "codemirror_mode": {
    "name": "ipython",
    "version": 2
   },
   "file_extension": ".py",
   "mimetype": "text/x-python",
   "name": "python",
   "nbconvert_exporter": "python",
   "pygments_lexer": "ipython2",
   "version": "2.7.6"
  }
 },
 "nbformat": 4,
 "nbformat_minor": 5
}
